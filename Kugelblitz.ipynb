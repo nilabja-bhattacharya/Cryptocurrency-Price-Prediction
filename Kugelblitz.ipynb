{
 "cells": [
  {
   "cell_type": "markdown",
   "metadata": {},
   "source": [
    "### Team Members  (ID:11)"
   ]
  },
  {
   "cell_type": "markdown",
   "metadata": {},
   "source": [
    "1. Nilabja Bhattacharya\n",
    "2. Ajay Jadhav\n",
    "3. Ravi Kumar Hooda\n",
    "4. Nitish Dwivedi"
   ]
  },
  {
   "cell_type": "markdown",
   "metadata": {},
   "source": [
    "### Main goal(s) of the project \n"
   ]
  },
  {
   "cell_type": "markdown",
   "metadata": {},
   "source": [
    "The decentralization of cryptocurrencies has greatly reduced the level of central control over them, impacting international relations and trade. Further, wide fluctuations in cryptocurrency price indicate an urgent need for an accurate way to forecast this price. The aim is to implememnt a novel method to predict cryptocurrency price by considering various factors such as market cap, volume, circulating supply,and maximum supply based on deep learning techniques such as the recurrent neural network (RNN) and the long short-term memory (LSTM), which are effective learning models for training data, with the LSTM being better at recognizing longer-term associations."
   ]
  },
  {
   "cell_type": "markdown",
   "metadata": {},
   "source": [
    "#### Problem definition (What is the problem? How things will be done ?)\n",
    "Time series forecasting or prediction is a well-known problem.\n",
    "Much research has been done for predicting markets such as the\n",
    "stock market. Cryptocurrenciescan be considered a form of\n",
    "virtual currency intended to serve as a medium of exchange and\n",
    "presents an interesting topic since it can be treated as a time series\n",
    "prediction problem. This problem still remains in nascent stages.\n",
    "Consequently, there is high volatility in the market, and this\n",
    "offers opportunities for further research on the prediction of\n",
    "cryptocurrency price.\n",
    "\n",
    "Moreover, cryptocurrencies such as the Bitcoin are increasingly\n",
    "adopted across the world. Because of the open nature of the\n",
    "cryptocurrency, it operates on a decentralized, peer-to-peer, and\n",
    "trustless system in which all transactions are passed to an open\n",
    "ledger known as the blockchain. Such transparency is unknown in\n",
    "the world of classical financial markets."
   ]
  },
  {
   "cell_type": "markdown",
   "metadata": {},
   "source": [
    "#### Results of the project (What will be done? What is the expected final result ?)\n",
    "\n",
    "We will implement the paper 'Predictive Analysis of Cryptocurrency Price Using Deep Learning'.\n",
    "\n",
    "We are envisioning to get greater accuracy than the model described in paper and take parameters mentioned in conclusion into consideration while training the model."
   ]
  },
  {
   "cell_type": "markdown",
   "metadata": {},
   "source": [
    "#### What are the project milestones and expected timeline ?\n"
   ]
  },
  {
   "cell_type": "markdown",
   "metadata": {},
   "source": [
    "By first week of April we are aiming to implement the functioning model decribed in paper and then we will work towards the enhancement of model."
   ]
  },
  {
   "cell_type": "markdown",
   "metadata": {},
   "source": [
    "#### Github link : https://github.com/nilabja10201992/Cryptocurrency-Price-Prediction\n"
   ]
  }
 ],
 "metadata": {
  "kernelspec": {
   "display_name": "Python 3",
   "language": "python",
   "name": "python3"
  },
  "language_info": {
   "codemirror_mode": {
    "name": "ipython",
    "version": 3
   },
   "file_extension": ".py",
   "mimetype": "text/x-python",
   "name": "python",
   "nbconvert_exporter": "python",
   "pygments_lexer": "ipython3",
   "version": "3.6.7"
  }
 },
 "nbformat": 4,
 "nbformat_minor": 2
}
