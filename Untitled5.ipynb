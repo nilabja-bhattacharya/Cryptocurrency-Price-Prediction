{
 "cells": [
  {
   "cell_type": "code",
   "execution_count": 1,
   "metadata": {
    "colab": {
     "base_uri": "https://localhost:8080/",
     "height": 224
    },
    "colab_type": "code",
    "id": "3IZZ0jIb_Ld4",
    "outputId": "5d487ee4-0997-4af2-cccd-269765488581"
   },
   "outputs": [
    {
     "name": "stdout",
     "output_type": "stream",
     "text": [
      "--2019-04-09 23:43:09--  https://storage.googleapis.com/kaggle-datasets/1346/330249/bitstampUSD_1-min_data_2012-01-01_to_2019-03-13.csv.zip?GoogleAccessId=web-data@kaggle-161607.iam.gserviceaccount.com&Expires=1554320272&Signature=fQwIGW3PZA8HKlnHZVWgSfpid3YLlCQK50O1a6KHBlivhb6aseX1PViH8CzmwlZQYjL4dhUeO2YhueRSMxGhbasOkjCkyD7x9eS%2By%2FeszcTo4ZmZZNZAEHZTD%2BnpMQ6yjgC32F3fXTR%2BRVyE8zY8ZnIqCobn2QaQxh23PhL6royYLAXiLRF3LNMvLGW6fjCBQNUK9gu2pBrayS6m28wqC1FxLh9kAmAYYnEEnRd6MaaiWsfC1kPcFrGT5pIyZ%2FZWx6ywex2eDh97hSCMwe10Vt6geR4RA4%2Bk1oFRbibERXhYIZ%2FLZxFzYaCvYE0M7%2Bblo6HrOQhQZKp97SpmJs8cUg%3D%3D\n",
      "Resolving storage.googleapis.com (storage.googleapis.com)... 172.217.166.112, 2404:6800:4007:803::2010\n",
      "Connecting to storage.googleapis.com (storage.googleapis.com)|172.217.166.112|:443... connected.\n",
      "HTTP request sent, awaiting response... 400 Bad Request\n",
      "2019-04-09 23:43:10 ERROR 400: Bad Request.\n",
      "\n"
     ]
    }
   ],
   "source": [
    "!wget --header=\"Host: storage.googleapis.com\" --header=\"User-Agent: Mozilla/5.0 (X11; Linux x86_64) AppleWebKit/537.36 (KHTML, like Gecko) Chrome/73.0.3683.86 Safari/537.36\" --header=\"Accept: text/html,application/xhtml+xml,application/xml;q=0.9,image/webp,image/apng,*/*;q=0.8,application/signed-exchange;v=b3\" --header=\"Accept-Language: en-US,en;q=0.9,la;q=0.8,hi;q=0.7,fr;q=0.6\" --header=\"Referer: https://www.kaggle.com/\" \"https://storage.googleapis.com/kaggle-datasets/1346/330249/bitstampUSD_1-min_data_2012-01-01_to_2019-03-13.csv.zip?GoogleAccessId=web-data@kaggle-161607.iam.gserviceaccount.com&Expires=1554320272&Signature=fQwIGW3PZA8HKlnHZVWgSfpid3YLlCQK50O1a6KHBlivhb6aseX1PViH8CzmwlZQYjL4dhUeO2YhueRSMxGhbasOkjCkyD7x9eS%2By%2FeszcTo4ZmZZNZAEHZTD%2BnpMQ6yjgC32F3fXTR%2BRVyE8zY8ZnIqCobn2QaQxh23PhL6royYLAXiLRF3LNMvLGW6fjCBQNUK9gu2pBrayS6m28wqC1FxLh9kAmAYYnEEnRd6MaaiWsfC1kPcFrGT5pIyZ%2FZWx6ywex2eDh97hSCMwe10Vt6geR4RA4%2Bk1oFRbibERXhYIZ%2FLZxFzYaCvYE0M7%2Bblo6HrOQhQZKp97SpmJs8cUg%3D%3D\" -O \"bitstampUSD_1-min_data_2012-01-01_to_2019-03-13.csv.zip\" -c"
   ]
  },
  {
   "cell_type": "code",
   "execution_count": 21,
   "metadata": {
    "colab": {
     "base_uri": "https://localhost:8080/",
     "height": 68
    },
    "colab_type": "code",
    "id": "5wPuBqQdMFg_",
    "outputId": "6a23c4d5-5e8c-4c95-9017-2888b2611ef0"
   },
   "outputs": [
    {
     "name": "stdout",
     "output_type": "stream",
     "text": [
      "Archive:  bitstampUSD_1-min_data_2012-01-01_to_2019-03-13.csv.zip\n",
      "replace bitstampUSD_1-min_data_2012-01-01_to_2019-03-13.csv? [y]es, [n]o, [A]ll, [N]one, [r]ename: y\n",
      "  inflating: bitstampUSD_1-min_data_2012-01-01_to_2019-03-13.csv  \n"
     ]
    }
   ],
   "source": [
    "!unzip bitstampUSD_1-min_data_2012-01-01_to_2019-03-13.csv.zip"
   ]
  },
  {
   "cell_type": "code",
   "execution_count": 22,
   "metadata": {
    "colab": {
     "base_uri": "https://localhost:8080/",
     "height": 34
    },
    "colab_type": "code",
    "id": "e789yWjrL6JK",
    "outputId": "3ed37404-7cf6-4bba-c11c-08e3aecc7cef"
   },
   "outputs": [
    {
     "name": "stdout",
     "output_type": "stream",
     "text": [
      "Found GPU at: /device:GPU:0\n"
     ]
    }
   ],
   "source": [
    "import tensorflow as tf\n",
    "device_name = tf.test.gpu_device_name()\n",
    "if device_name != '/device:GPU:0':\n",
    "  raise SystemError('GPU device not found')\n",
    "print('Found GPU at: {}'.format(device_name))"
   ]
  },
  {
   "cell_type": "code",
   "execution_count": 0,
   "metadata": {
    "colab": {},
    "colab_type": "code",
    "id": "L5E8OFf89J0I"
   },
   "outputs": [],
   "source": [
    "import numpy as np # linear algebra\n",
    "import pandas as pd # data processing, CSV file I/O (e.g. pd.read_csv)\n",
    "import matplotlib.pyplot as plt # data visualization\n",
    "\n",
    "# Input data files are available in the \"../input/\" directory.\n",
    "# For example, running this (by clicking run or pressing Shift+Enter) will list the files in the input directory\n",
    "\n",
    "import os\n",
    "import warnings\n",
    "warnings.filterwarnings(action='ignore')\n",
    "warnings.filterwarnings(action='ignore', category=DeprecationWarning)\n",
    "warnings.filterwarnings(action='ignore', category=FutureWarning)\n",
    "\n",
    "# Library for Learning\n",
    "from sklearn.model_selection import train_test_split\n",
    "from sklearn.preprocessing import MinMaxScaler\n",
    "from keras.models import Sequential\n",
    "from keras.layers import Dense, LSTM, Dropout, GRU, Bidirectional\n",
    "from keras.optimizers import SGD\n",
    "import math\n",
    "import tensorflow as tf\n",
    "from sklearn.metrics import mean_squared_error, mean_absolute_error\n"
   ]
  },
  {
   "cell_type": "code",
   "execution_count": 24,
   "metadata": {
    "colab": {
     "base_uri": "https://localhost:8080/",
     "height": 467
    },
    "colab_type": "code",
    "id": "O3x7iqjb9Nhi",
    "outputId": "fbed36a3-3f3a-46d4-cc30-95d70179e0cc"
   },
   "outputs": [
    {
     "name": "stdout",
     "output_type": "stream",
     "text": [
      "['Timestamp', 'Open', 'High', 'Low', 'Close', 'Volume_(BTC)', 'Volume_(Currency)', 'Weighted_Price'] \n",
      "SHAPE :: (3778817, 8)\n",
      "Timestamp :: int64\n",
      "Open :: float64\n",
      "High :: float64\n",
      "Low :: float64\n",
      "Close :: float64\n",
      "Volume_(BTC) :: float64\n",
      "Volume_(Currency) :: float64\n",
      "Weighted_Price :: float64\n"
     ]
    },
    {
     "data": {
      "text/html": [
       "<div>\n",
       "<style scoped>\n",
       "    .dataframe tbody tr th:only-of-type {\n",
       "        vertical-align: middle;\n",
       "    }\n",
       "\n",
       "    .dataframe tbody tr th {\n",
       "        vertical-align: top;\n",
       "    }\n",
       "\n",
       "    .dataframe thead th {\n",
       "        text-align: right;\n",
       "    }\n",
       "</style>\n",
       "<table border=\"1\" class=\"dataframe\">\n",
       "  <thead>\n",
       "    <tr style=\"text-align: right;\">\n",
       "      <th></th>\n",
       "      <th>Timestamp</th>\n",
       "      <th>Open</th>\n",
       "      <th>High</th>\n",
       "      <th>Low</th>\n",
       "      <th>Close</th>\n",
       "      <th>Volume_(BTC)</th>\n",
       "      <th>Volume_(Currency)</th>\n",
       "      <th>Weighted_Price</th>\n",
       "    </tr>\n",
       "  </thead>\n",
       "  <tbody>\n",
       "    <tr>\n",
       "      <th>count</th>\n",
       "      <td>3.778817e+06</td>\n",
       "      <td>2.551132e+06</td>\n",
       "      <td>2.551132e+06</td>\n",
       "      <td>2.551132e+06</td>\n",
       "      <td>2.551132e+06</td>\n",
       "      <td>2.551132e+06</td>\n",
       "      <td>2.551132e+06</td>\n",
       "      <td>2.551132e+06</td>\n",
       "    </tr>\n",
       "    <tr>\n",
       "      <th>mean</th>\n",
       "      <td>1.438908e+09</td>\n",
       "      <td>2.654668e+03</td>\n",
       "      <td>2.656783e+03</td>\n",
       "      <td>2.652286e+03</td>\n",
       "      <td>2.654650e+03</td>\n",
       "      <td>1.068140e+01</td>\n",
       "      <td>2.395856e+04</td>\n",
       "      <td>2.654510e+03</td>\n",
       "    </tr>\n",
       "    <tr>\n",
       "      <th>std</th>\n",
       "      <td>6.561491e+07</td>\n",
       "      <td>3.529553e+03</td>\n",
       "      <td>3.533184e+03</td>\n",
       "      <td>3.525347e+03</td>\n",
       "      <td>3.529522e+03</td>\n",
       "      <td>3.476243e+01</td>\n",
       "      <td>8.829950e+04</td>\n",
       "      <td>3.529271e+03</td>\n",
       "    </tr>\n",
       "    <tr>\n",
       "      <th>min</th>\n",
       "      <td>1.325318e+09</td>\n",
       "      <td>3.800000e+00</td>\n",
       "      <td>3.800000e+00</td>\n",
       "      <td>1.500000e+00</td>\n",
       "      <td>1.500000e+00</td>\n",
       "      <td>0.000000e+00</td>\n",
       "      <td>0.000000e+00</td>\n",
       "      <td>3.800000e+00</td>\n",
       "    </tr>\n",
       "    <tr>\n",
       "      <th>25%</th>\n",
       "      <td>1.382000e+09</td>\n",
       "      <td>3.489800e+02</td>\n",
       "      <td>3.491500e+02</td>\n",
       "      <td>3.487800e+02</td>\n",
       "      <td>3.489900e+02</td>\n",
       "      <td>4.500000e-01</td>\n",
       "      <td>2.480382e+02</td>\n",
       "      <td>3.489681e+02</td>\n",
       "    </tr>\n",
       "    <tr>\n",
       "      <th>50%</th>\n",
       "      <td>1.439071e+09</td>\n",
       "      <td>6.595600e+02</td>\n",
       "      <td>6.600000e+02</td>\n",
       "      <td>6.589900e+02</td>\n",
       "      <td>6.596200e+02</td>\n",
       "      <td>2.095163e+00</td>\n",
       "      <td>1.814312e+03</td>\n",
       "      <td>6.595521e+02</td>\n",
       "    </tr>\n",
       "    <tr>\n",
       "      <th>75%</th>\n",
       "      <td>1.495753e+09</td>\n",
       "      <td>4.045492e+03</td>\n",
       "      <td>4.049115e+03</td>\n",
       "      <td>4.042050e+03</td>\n",
       "      <td>4.045400e+03</td>\n",
       "      <td>8.284949e+00</td>\n",
       "      <td>1.303504e+04</td>\n",
       "      <td>4.045115e+03</td>\n",
       "    </tr>\n",
       "    <tr>\n",
       "      <th>max</th>\n",
       "      <td>1.552435e+09</td>\n",
       "      <td>1.966576e+04</td>\n",
       "      <td>1.966600e+04</td>\n",
       "      <td>1.964996e+04</td>\n",
       "      <td>1.966575e+04</td>\n",
       "      <td>5.853852e+03</td>\n",
       "      <td>5.483271e+06</td>\n",
       "      <td>1.966330e+04</td>\n",
       "    </tr>\n",
       "  </tbody>\n",
       "</table>\n",
       "</div>"
      ],
      "text/plain": [
       "          Timestamp          Open          High           Low         Close  \\\n",
       "count  3.778817e+06  2.551132e+06  2.551132e+06  2.551132e+06  2.551132e+06   \n",
       "mean   1.438908e+09  2.654668e+03  2.656783e+03  2.652286e+03  2.654650e+03   \n",
       "std    6.561491e+07  3.529553e+03  3.533184e+03  3.525347e+03  3.529522e+03   \n",
       "min    1.325318e+09  3.800000e+00  3.800000e+00  1.500000e+00  1.500000e+00   \n",
       "25%    1.382000e+09  3.489800e+02  3.491500e+02  3.487800e+02  3.489900e+02   \n",
       "50%    1.439071e+09  6.595600e+02  6.600000e+02  6.589900e+02  6.596200e+02   \n",
       "75%    1.495753e+09  4.045492e+03  4.049115e+03  4.042050e+03  4.045400e+03   \n",
       "max    1.552435e+09  1.966576e+04  1.966600e+04  1.964996e+04  1.966575e+04   \n",
       "\n",
       "       Volume_(BTC)  Volume_(Currency)  Weighted_Price  \n",
       "count  2.551132e+06       2.551132e+06    2.551132e+06  \n",
       "mean   1.068140e+01       2.395856e+04    2.654510e+03  \n",
       "std    3.476243e+01       8.829950e+04    3.529271e+03  \n",
       "min    0.000000e+00       0.000000e+00    3.800000e+00  \n",
       "25%    4.500000e-01       2.480382e+02    3.489681e+02  \n",
       "50%    2.095163e+00       1.814312e+03    6.595521e+02  \n",
       "75%    8.284949e+00       1.303504e+04    4.045115e+03  \n",
       "max    5.853852e+03       5.483271e+06    1.966330e+04  "
      ]
     },
     "execution_count": 24,
     "metadata": {
      "tags": []
     },
     "output_type": "execute_result"
    }
   ],
   "source": [
    "coinbase = pd.read_csv(\"bitstampUSD_1-min_data_2012-01-01_to_2019-03-13.csv\")\n",
    "cb_index = coinbase.index.ravel()\n",
    "\n",
    "print(list(coinbase.columns), \"\\nSHAPE ::\", coinbase.shape)\n",
    "for i in coinbase.columns:\n",
    "    print(i, \"::\", coinbase[i].dtype)\n",
    "\n",
    "# Declaring number for random state for reproducibility\n",
    "rstate=123\n",
    "    \n",
    "coinbase.describe()\n"
   ]
  },
  {
   "cell_type": "code",
   "execution_count": 0,
   "metadata": {
    "colab": {},
    "colab_type": "code",
    "id": "22GsED9u9QWt"
   },
   "outputs": [],
   "source": [
    "a = coinbase[\"Close\"][1200000:].fillna(method=\"backfill\")"
   ]
  },
  {
   "cell_type": "code",
   "execution_count": 26,
   "metadata": {
    "colab": {
     "base_uri": "https://localhost:8080/",
     "height": 778
    },
    "colab_type": "code",
    "id": "Gvvb12NM_lMC",
    "outputId": "0f4478b3-bf69-47a0-82be-fca9f58c7fd0"
   },
   "outputs": [
    {
     "data": {
      "text/plain": [
       "[<matplotlib.lines.Line2D at 0x7f54e051b2b0>]"
      ]
     },
     "execution_count": 26,
     "metadata": {
      "tags": []
     },
     "output_type": "execute_result"
    },
    {
     "data": {
      "image/png": "[encoded data removed]",
      "text/plain": [
       "<Figure size 1008x432 with 1 Axes>"
      ]
     },
     "metadata": {
      "tags": []
     },
     "output_type": "display_data"
    },
    {
     "data": {
      "image/png": "[encoded data removed]",
      "text/plain": [
       "<Figure size 1008x432 with 1 Axes>"
      ]
     },
     "metadata": {
      "tags": []
     },
     "output_type": "display_data"
    }
   ],
   "source": [
    "close_price = np.array(a).reshape(-1,1)\n",
    "plt.figure(figsize=(14,6))\n",
    "plt.title(\"Bitcoin Closing Price\")\n",
    "plt.grid()\n",
    "plt.plot(close_price)\n",
    "\n",
    "sc = MinMaxScaler()\n",
    "close_priceSC = sc.fit_transform(close_price)\n",
    "plt.figure(figsize=(14,6))\n",
    "plt.title(\"Scaled\")\n",
    "plt.grid()\n",
    "plt.plot(close_priceSC)"
   ]
  },
  {
   "cell_type": "code",
   "execution_count": 27,
   "metadata": {
    "colab": {
     "base_uri": "https://localhost:8080/",
     "height": 34
    },
    "colab_type": "code",
    "id": "anE7Wz7B_oOK",
    "outputId": "f849d1bc-b06b-4557-af9f-3b45fb67e48f"
   },
   "outputs": [
    {
     "name": "stdout",
     "output_type": "stream",
     "text": [
      "(2578757, 60) (2578757,)\n"
     ]
    }
   ],
   "source": [
    "X = []\n",
    "y = []\n",
    "for i in range(60, len(close_priceSC)):\n",
    "    X.append(close_priceSC[i-60:i, 0])\n",
    "    y.append(close_priceSC[i,0])\n",
    "X, y = np.array(X), np.array(y)\n",
    "print(X.shape, y.shape)"
   ]
  },
  {
   "cell_type": "code",
   "execution_count": 28,
   "metadata": {
    "colab": {
     "base_uri": "https://localhost:8080/",
     "height": 238
    },
    "colab_type": "code",
    "id": "pK_jjyQcfEom",
    "outputId": "a4a7c4c1-e96e-4fd1-fef1-6dd4e0794f57"
   },
   "outputs": [
    {
     "data": {
      "text/plain": [
       "array([[0.02146942, 0.02146891, 0.02146281, ..., 0.02151061, 0.02150807,\n",
       "        0.02150807],\n",
       "       [0.02146891, 0.02146281, 0.02146281, ..., 0.02150807, 0.02150807,\n",
       "        0.02153654],\n",
       "       [0.02146281, 0.02146281, 0.02145976, ..., 0.02150807, 0.02153654,\n",
       "        0.02153604],\n",
       "       ...,\n",
       "       [0.19653432, 0.19662128, 0.19663755, ..., 0.1962236 , 0.19627242,\n",
       "        0.19627242],\n",
       "       [0.19662128, 0.19663755, 0.19643617, ..., 0.19627242, 0.19627242,\n",
       "        0.19627242],\n",
       "       [0.19663755, 0.19643617, 0.19634514, ..., 0.19627242, 0.19627242,\n",
       "        0.1962058 ]])"
      ]
     },
     "execution_count": 28,
     "metadata": {
      "tags": []
     },
     "output_type": "execute_result"
    }
   ],
   "source": [
    "X"
   ]
  },
  {
   "cell_type": "code",
   "execution_count": 0,
   "metadata": {
    "colab": {},
    "colab_type": "code",
    "id": "wNtslp8x_rGL"
   },
   "outputs": [],
   "source": [
    "X_train = X[:2400000,:]\n",
    "X_test = X[2400000:,:]\n",
    "\n",
    "y_train = y[:2400000]\n",
    "y_test = y[2400000:]\n"
   ]
  },
  {
   "cell_type": "code",
   "execution_count": 30,
   "metadata": {
    "colab": {
     "base_uri": "https://localhost:8080/",
     "height": 265
    },
    "colab_type": "code",
    "id": "nPOEvmwF_tWj",
    "outputId": "7c07f999-b06d-462c-d30b-356c8c52994d"
   },
   "outputs": [
    {
     "data": {
      "image/png": "[encoded data removed]",
      "text/plain": [
       "<Figure size 1008x288 with 1 Axes>"
      ]
     },
     "metadata": {
      "tags": []
     },
     "output_type": "display_data"
    }
   ],
   "source": [
    "plt.figure(figsize=(14,4))\n",
    "plt.plot(range(2400000),y_train)\n",
    "plt.plot(range(2400000, len(y)), y_test)\n",
    "plt.legend([\"Training\", \"Test\"])\n",
    "plt.grid()\n"
   ]
  },
  {
   "cell_type": "code",
   "execution_count": 0,
   "metadata": {
    "colab": {},
    "colab_type": "code",
    "id": "bANeNjAl_vhu"
   },
   "outputs": [],
   "source": [
    "X_train = X_train.reshape(-1,60,1)\n",
    "X_test = X_test.reshape(-1,60,1)"
   ]
  },
  {
   "cell_type": "code",
   "execution_count": 32,
   "metadata": {
    "colab": {
     "base_uri": "https://localhost:8080/",
     "height": 85
    },
    "colab_type": "code",
    "id": "qQvbTOzl_x09",
    "outputId": "39eb3b09-1102-4879-946c-5993c4a46c3a"
   },
   "outputs": [
    {
     "name": "stdout",
     "output_type": "stream",
     "text": [
      "Epoch 1/1\n",
      "2400000/2400000 [==============================] - 2340s 975us/step - loss: 0.0144\n",
      "CPU times: user 52min 33s, sys: 4min 50s, total: 57min 24s\n",
      "Wall time: 39min 5s\n"
     ]
    }
   ],
   "source": [
    "%%time\n",
    "# The LSTM architecture\n",
    "regressor = Sequential()\n",
    "# First LSTM layer with Dropout regularisation\n",
    "regressor.add(LSTM(units=50, return_sequences=True, input_shape=(X_train.shape[1],1)))\n",
    "regressor.add(Dropout(0.2))\n",
    "# Second LSTM layer\n",
    "regressor.add(LSTM(units=50, return_sequences=True))\n",
    "regressor.add(Dropout(0.2))\n",
    "# Third LSTM layer\n",
    "regressor.add(LSTM(units=50, return_sequences=True))\n",
    "regressor.add(Dropout(0.5))\n",
    "# Fourth LSTM layer\n",
    "regressor.add(LSTM(units=50))\n",
    "regressor.add(Dropout(0.5))\n",
    "# The output layer\n",
    "regressor.add(Dense(units=1))\n",
    "\n",
    "# Compiling the RNN\n",
    "regressor.compile(optimizer='adam', loss='mean_absolute_error')\n",
    "# Fitting to the training set\n",
    "regressor.fit(X_train, y_train, epochs=1, batch_size=500)"
   ]
  },
  {
   "cell_type": "code",
   "execution_count": 0,
   "metadata": {
    "colab": {},
    "colab_type": "code",
    "id": "3UdRU75DMoTP"
   },
   "outputs": [],
   "source": [
    "# regressor = tf.keras.models.load_model('model.h5')"
   ]
  },
  {
   "cell_type": "code",
   "execution_count": 34,
   "metadata": {
    "colab": {
     "base_uri": "https://localhost:8080/",
     "height": 51
    },
    "colab_type": "code",
    "id": "V66QpXJP_0YP",
    "outputId": "015e1c75-25a5-49ad-caa2-b02bd3476262"
   },
   "outputs": [
    {
     "name": "stdout",
     "output_type": "stream",
     "text": [
      "CPU times: user 25min 2s, sys: 2min 34s, total: 27min 36s\n",
      "Wall time: 16min 54s\n"
     ]
    }
   ],
   "source": [
    "%%time\n",
    "y_pred = regressor.predict(X_test)"
   ]
  },
  {
   "cell_type": "code",
   "execution_count": 0,
   "metadata": {
    "colab": {},
    "colab_type": "code",
    "id": "F1Fc28Gtcn_B"
   },
   "outputs": [],
   "source": [
    "def systematic_mean_absolute_percentage_error(y_true, y_pred):\n",
    "    n = y_true.shape[0]\n",
    "    res = 0\n",
    "    for i in range(n):\n",
    "        num = np.abs(y_pred[i] - y_true[i])\n",
    "        dem = (np.abs(y_true[i]) + np.abs(y_pred[i]))/2\n",
    "        res += num/dem\n",
    "    res = np.squeeze(res)\n",
    "    return 100*(res/n)"
   ]
  },
  {
   "cell_type": "code",
   "execution_count": 0,
   "metadata": {
    "colab": {},
    "colab_type": "code",
    "id": "rt9Qb7_Ya4k9"
   },
   "outputs": [],
   "source": [
    "import numpy as np\n",
    "def mean_absolute_scaled_error(y_true, y_pred):\n",
    "    n = y_true.shape[0]\n",
    "    res = 0\n",
    "    dem = 0\n",
    "    num = 0\n",
    "    for i in range(n-1):\n",
    "        dem += y_true[i+1] - y_true[i]\n",
    "    for i in range(n):\n",
    "        num = abs(y_pred[i] - y_true[i])\n",
    "        num = np.squeeze(num)\n",
    "        res += num/dem\n",
    "    res = np.squeeze(res)\n",
    "    #print(num, dem, res)\n",
    "    return res/n"
   ]
  },
  {
   "cell_type": "code",
   "execution_count": 51,
   "metadata": {
    "colab": {
     "base_uri": "https://localhost:8080/",
     "height": 34
    },
    "colab_type": "code",
    "id": "ekPDDxvjSG-a",
    "outputId": "42a66567-b4fd-40f8-f189-b938d8f27bfd"
   },
   "outputs": [
    {
     "name": "stdout",
     "output_type": "stream",
     "text": [
      "Mean Absolute Error is :  0.0007799617412288907\n"
     ]
    }
   ],
   "source": [
    "MAE = mean_absolute_error(y_test, y_pred)\n",
    "print(\"Mean Absolute Error is : \", MAE)"
   ]
  },
  {
   "cell_type": "code",
   "execution_count": 38,
   "metadata": {
    "colab": {
     "base_uri": "https://localhost:8080/",
     "height": 420
    },
    "colab_type": "code",
    "id": "4POTNkCg_7Ia",
    "outputId": "24a235ce-163b-4353-88ef-9549b5e8b642"
   },
   "outputs": [
    {
     "data": {
      "text/plain": [
       "Text(0, 0.5, 'Price')"
      ]
     },
     "execution_count": 38,
     "metadata": {
      "tags": []
     },
     "output_type": "execute_result"
    },
    {
     "data": {
      "image/png": "[encoded data removed]",
      "text/plain": [
       "<Figure size 1008x432 with 1 Axes>"
      ]
     },
     "metadata": {
      "tags": []
     },
     "output_type": "display_data"
    }
   ],
   "source": [
    "plt.figure(figsize=(14,6))\n",
    "plt.plot(sc.inverse_transform(y_test.reshape(-1,1)))\n",
    "plt.plot(sc.inverse_transform(y_pred.reshape(-1,1)))\n",
    "plt.title(\"Comparison with MAE {0:0.10f}\".format(MAE))\n",
    "plt.legend([\"Y\", \"Prediction\"])\n",
    "plt.xlabel(\"Timeframe\")\n",
    "plt.ylabel(\"Price\")"
   ]
  },
  {
   "cell_type": "code",
   "execution_count": 46,
   "metadata": {
    "colab": {
     "base_uri": "https://localhost:8080/",
     "height": 34
    },
    "colab_type": "code",
    "id": "knVC1fCW__bR",
    "outputId": "dc180962-bb01-47a6-a041-26b501eedd7d"
   },
   "outputs": [
    {
     "name": "stdout",
     "output_type": "stream",
     "text": [
      "Mean Squared Error is :  1.8521917514508262e-06\n"
     ]
    }
   ],
   "source": [
    "from sklearn.metrics import mean_squared_error\n",
    "MSE = mean_squared_error(y_test, y_pred)\n",
    "print(\"Mean Squared Error is : \", MSE)"
   ]
  },
  {
   "cell_type": "code",
   "execution_count": 0,
   "metadata": {
    "colab": {},
    "colab_type": "code",
    "id": "1DZCuMLgMoTt"
   },
   "outputs": [],
   "source": []
  },
  {
   "cell_type": "code",
   "execution_count": 49,
   "metadata": {
    "colab": {
     "base_uri": "https://localhost:8080/",
     "height": 34
    },
    "colab_type": "code",
    "id": "E3PqlcRVdl5Y",
    "outputId": "9396a378-fdd1-46ca-d0b2-e7d3e8355eb8"
   },
   "outputs": [
    {
     "name": "stdout",
     "output_type": "stream",
     "text": [
      "Systematic Mean Absolute Percentage Error is :  0.3466509517372047\n"
     ]
    }
   ],
   "source": [
    "SMAPE = systematic_mean_absolute_percentage_error(y_test, y_pred)\n",
    "print(\"Systematic Mean Absolute Percentage Error is : \", SMAPE)"
   ]
  },
  {
   "cell_type": "code",
   "execution_count": 0,
   "metadata": {
    "colab": {},
    "colab_type": "code",
    "id": "TqpCBFRAMoT0"
   },
   "outputs": [],
   "source": []
  },
  {
   "cell_type": "code",
   "execution_count": 50,
   "metadata": {
    "colab": {
     "base_uri": "https://localhost:8080/",
     "height": 34
    },
    "colab_type": "code",
    "id": "fcehYAQMolgq",
    "outputId": "f869d3b3-eaf7-477d-c9e8-039a6e21592d"
   },
   "outputs": [
    {
     "name": "stdout",
     "output_type": "stream",
     "text": [
      "Mean Absolute Scaled Error is :  -0.0059840278939898624\n"
     ]
    }
   ],
   "source": [
    "MASE = mean_absolute_scaled_error(y_test, y_pred)\n",
    "print(\"Mean Absolute Scaled Error is : \",MASE)"
   ]
  },
  {
   "cell_type": "code",
   "execution_count": 0,
   "metadata": {
    "colab": {},
    "colab_type": "code",
    "id": "H1yP-ps7MoT7"
   },
   "outputs": [],
   "source": []
  },
  {
   "cell_type": "code",
   "execution_count": 0,
   "metadata": {
    "colab": {},
    "colab_type": "code",
    "id": "5ohZO0P-MoT9"
   },
   "outputs": [],
   "source": []
  }
 ],
 "metadata": {
  "accelerator": "GPU",
  "colab": {
   "collapsed_sections": [],
   "name": "Untitled5.ipynb",
   "provenance": [],
   "version": "0.3.2"
  },
  "kernelspec": {
   "display_name": "Python 3",
   "language": "python",
   "name": "python3"
  },
  "language_info": {
   "codemirror_mode": {
    "name": "ipython",
    "version": 3
   },
   "file_extension": ".py",
   "mimetype": "text/x-python",
   "name": "python",
   "nbconvert_exporter": "python",
   "pygments_lexer": "ipython3",
   "version": "3.6.7"
  }
 },
 "nbformat": 4,
 "nbformat_minor": 1
}
