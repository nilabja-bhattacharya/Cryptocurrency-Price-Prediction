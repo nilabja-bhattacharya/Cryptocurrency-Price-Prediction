{
  "nbformat": 4,
  "nbformat_minor": 0,
  "metadata": {
    "colab": {
      "name": "comparewithtimesteplargew_l.ipynb",
      "version": "0.3.2",
      "provenance": [],
      "collapsed_sections": [],
      "include_colab_link": true
    },
    "language_info": {
      "codemirror_mode": {
        "name": "ipython",
        "version": 3
      },
      "file_extension": ".py",
      "mimetype": "text/x-python",
      "name": "python",
      "nbconvert_exporter": "python",
      "pygments_lexer": "ipython3",
      "version": "3.6.7"
    },
    "kernelspec": {
      "display_name": "Python 3",
      "language": "python",
      "name": "python3"
    },
    "accelerator": "GPU"
  },
  "cells": [
    {
      "cell_type": "markdown",
      "metadata": {
        "id": "view-in-github",
        "colab_type": "text"
      },
      "source": [
        "<a href=\"https://colab.research.google.com/github/nilabja10201992/Cryptocurrency-Price-Prediction/blob/master/comparewithtimesteplargew_l.ipynb\" target=\"_parent\"><img src=\"https://colab.research.google.com/assets/colab-badge.svg\" alt=\"Open In Colab\"/></a>"
      ]
    },
    {
      "metadata": {
        "colab_type": "code",
        "id": "3IZZ0jIb_Ld4",
        "outputId": "168b906a-c40f-44b7-84f2-bc9a282e95d1",
        "colab": {
          "base_uri": "https://localhost:8080/",
          "height": 224
        }
      },
      "cell_type": "code",
      "source": [
        "!wget --header=\"Host: storage.googleapis.com\" --header=\"User-Agent: Mozilla/5.0 (X11; Linux x86_64) AppleWebKit/537.36 (KHTML, like Gecko) Chrome/73.0.3683.103 Safari/537.36\" --header=\"Accept: text/html,application/xhtml+xml,application/xml;q=0.9,image/webp,image/apng,*/*;q=0.8,application/signed-exchange;v=b3\" --header=\"Accept-Language: en-US,en;q=0.9,la;q=0.8,hi;q=0.7,fr;q=0.6\" --header=\"Referer: https://www.kaggle.com/\" \"https://storage.googleapis.com/kaggle-datasets/1346/330249/bitstampUSD_1-min_data_2012-01-01_to_2019-03-13.csv.zip?GoogleAccessId=web-data@kaggle-161607.iam.gserviceaccount.com&Expires=1556728085&Signature=XGXS3hu63l4vMnFgnrKdryrBxzOedh6xVvzb2OOevAEcPMUAB7PtYA5VA%2BLQvfZ8KsbH5jAgx2UH3ZB0qf8LueI11aT4NyjHsrW4lcKUVh9ydPdFoz4UukeP%2BNHA5JT0cBx7%2BBcarqyPuICUpdcdlB0PM7Qgcze3Cz0BgfvnXgtMs7kacjbM1l7vGTnTJSxuLBnMSBwugGO7D6Pnd6jQqLr%2BrXmkr2myfKB8n61Y6yzg38KAvMgqiThT7betBTa0k7ect7KcmSlPyu3dYZ4tLfg6DeNpTi9nKn8i%2FazRO6mFj%2BbpMqJdNxwd%2FMGDG86v%2BLAnbfmyGRtEBby4ZsqYmA%3D%3D\" -O \"bitstampUSD_1-min_data_2012-01-01_to_2019-03-13.csv.zip\" -c"
      ],
      "execution_count": 1,
      "outputs": [
        {
          "output_type": "stream",
          "text": [
            "--2019-04-29 04:19:11--  https://storage.googleapis.com/kaggle-datasets/1346/330249/bitstampUSD_1-min_data_2012-01-01_to_2019-03-13.csv.zip?GoogleAccessId=web-data@kaggle-161607.iam.gserviceaccount.com&Expires=1556728085&Signature=XGXS3hu63l4vMnFgnrKdryrBxzOedh6xVvzb2OOevAEcPMUAB7PtYA5VA%2BLQvfZ8KsbH5jAgx2UH3ZB0qf8LueI11aT4NyjHsrW4lcKUVh9ydPdFoz4UukeP%2BNHA5JT0cBx7%2BBcarqyPuICUpdcdlB0PM7Qgcze3Cz0BgfvnXgtMs7kacjbM1l7vGTnTJSxuLBnMSBwugGO7D6Pnd6jQqLr%2BrXmkr2myfKB8n61Y6yzg38KAvMgqiThT7betBTa0k7ect7KcmSlPyu3dYZ4tLfg6DeNpTi9nKn8i%2FazRO6mFj%2BbpMqJdNxwd%2FMGDG86v%2BLAnbfmyGRtEBby4ZsqYmA%3D%3D\n",
            "Resolving storage.googleapis.com (storage.googleapis.com)... 108.177.127.128, 2a00:1450:4013:c07::80\n",
            "Connecting to storage.googleapis.com (storage.googleapis.com)|108.177.127.128|:443... connected.\n",
            "HTTP request sent, awaiting response... 200 OK\n",
            "Length: 71025792 (68M) [application/zip]\n",
            "Saving to: ‘bitstampUSD_1-min_data_2012-01-01_to_2019-03-13.csv.zip’\n",
            "\n",
            "\r          bitstampU   0%[                    ]       0  --.-KB/s               \r         bitstampUS  32%[=====>              ]  22.01M   110MB/s               \rbitstampUSD_1-min_d 100%[===================>]  67.74M   169MB/s    in 0.4s    \n",
            "\n",
            "2019-04-29 04:19:12 (169 MB/s) - ‘bitstampUSD_1-min_data_2012-01-01_to_2019-03-13.csv.zip’ saved [71025792/71025792]\n",
            "\n"
          ],
          "name": "stdout"
        }
      ]
    },
    {
      "metadata": {
        "colab_type": "code",
        "id": "5wPuBqQdMFg_",
        "outputId": "681b03c7-b937-4efe-d0e1-212edae0dfdc",
        "colab": {
          "base_uri": "https://localhost:8080/",
          "height": 51
        }
      },
      "cell_type": "code",
      "source": [
        "!unzip bitstampUSD_1-min_data_2012-01-01_to_2019-03-13.csv.zip"
      ],
      "execution_count": 2,
      "outputs": [
        {
          "output_type": "stream",
          "text": [
            "Archive:  bitstampUSD_1-min_data_2012-01-01_to_2019-03-13.csv.zip\n",
            "  inflating: bitstampUSD_1-min_data_2012-01-01_to_2019-03-13.csv  \n"
          ],
          "name": "stdout"
        }
      ]
    },
    {
      "metadata": {
        "colab_type": "code",
        "id": "2C8gNtDxxCrQ",
        "outputId": "78b5be59-415b-4fc9-9b0f-86f8b91dcc7a",
        "colab": {
          "base_uri": "https://localhost:8080/",
          "height": 51
        }
      },
      "cell_type": "code",
      "source": [
        "!ls"
      ],
      "execution_count": 3,
      "outputs": [
        {
          "output_type": "stream",
          "text": [
            "bitstampUSD_1-min_data_2012-01-01_to_2019-03-13.csv\t sample_data\n",
            "bitstampUSD_1-min_data_2012-01-01_to_2019-03-13.csv.zip\n"
          ],
          "name": "stdout"
        }
      ]
    },
    {
      "metadata": {
        "colab_type": "code",
        "id": "L5E8OFf89J0I",
        "colab": {}
      },
      "cell_type": "code",
      "source": [
        "import tensorflow as tf\n",
        "import numpy as np # linear algebra\n",
        "import pandas as pd # data processing, CSV file I/O (e.g. pd.read_csv)\n",
        "import matplotlib.pyplot as plt # data visualization\n",
        "\n",
        "# Input data files are available in the \"../input/\" directory.\n",
        "# For example, running this (by clicking run or pressing Shift+Enter) will list the files in the input directory\n",
        "\n",
        "import os\n",
        "import warnings\n",
        "warnings.filterwarnings(action='ignore')\n",
        "warnings.filterwarnings(action='ignore', category=DeprecationWarning)\n",
        "warnings.filterwarnings(action='ignore', category=FutureWarning)\n",
        "\n",
        "# Library for Learning\n",
        "from sklearn.model_selection import train_test_split\n",
        "from sklearn.preprocessing import MinMaxScaler\n",
        "from keras.models import Sequential\n",
        "from keras.layers import Dense, CuDNNLSTM, Dropout, GRU, Bidirectional\n",
        "from keras.optimizers import SGD\n",
        "import math\n",
        "import seaborn as sns\n",
        "import time\n",
        "from sklearn.preprocessing import LabelEncoder\n",
        "from sklearn.preprocessing import OneHotEncoder\n",
        "from keras.utils import to_categorical\n",
        "from sklearn.metrics import mean_squared_error, mean_absolute_error\n",
        "plt.rcParams[\"figure.figsize\"] = (20,10)"
      ],
      "execution_count": 0,
      "outputs": []
    },
    {
      "metadata": {
        "colab_type": "code",
        "id": "O3x7iqjb9Nhi",
        "outputId": "da69de52-c898-4f93-a3f2-3e236d2c183c",
        "colab": {
          "base_uri": "https://localhost:8080/",
          "height": 297
        }
      },
      "cell_type": "code",
      "source": [
        "train_df = pd.read_csv(\"bitstampUSD_1-min_data_2012-01-01_to_2019-03-13.csv\")\n",
        "train_df.describe()"
      ],
      "execution_count": 5,
      "outputs": [
        {
          "output_type": "execute_result",
          "data": {
            "text/html": [
              "<div>\n",
              "<style scoped>\n",
              "    .dataframe tbody tr th:only-of-type {\n",
              "        vertical-align: middle;\n",
              "    }\n",
              "\n",
              "    .dataframe tbody tr th {\n",
              "        vertical-align: top;\n",
              "    }\n",
              "\n",
              "    .dataframe thead th {\n",
              "        text-align: right;\n",
              "    }\n",
              "</style>\n",
              "<table border=\"1\" class=\"dataframe\">\n",
              "  <thead>\n",
              "    <tr style=\"text-align: right;\">\n",
              "      <th></th>\n",
              "      <th>Timestamp</th>\n",
              "      <th>Open</th>\n",
              "      <th>High</th>\n",
              "      <th>Low</th>\n",
              "      <th>Close</th>\n",
              "      <th>Volume_(BTC)</th>\n",
              "      <th>Volume_(Currency)</th>\n",
              "      <th>Weighted_Price</th>\n",
              "    </tr>\n",
              "  </thead>\n",
              "  <tbody>\n",
              "    <tr>\n",
              "      <th>count</th>\n",
              "      <td>3.778817e+06</td>\n",
              "      <td>2.551132e+06</td>\n",
              "      <td>2.551132e+06</td>\n",
              "      <td>2.551132e+06</td>\n",
              "      <td>2.551132e+06</td>\n",
              "      <td>2.551132e+06</td>\n",
              "      <td>2.551132e+06</td>\n",
              "      <td>2.551132e+06</td>\n",
              "    </tr>\n",
              "    <tr>\n",
              "      <th>mean</th>\n",
              "      <td>1.438908e+09</td>\n",
              "      <td>2.654668e+03</td>\n",
              "      <td>2.656783e+03</td>\n",
              "      <td>2.652286e+03</td>\n",
              "      <td>2.654650e+03</td>\n",
              "      <td>1.068140e+01</td>\n",
              "      <td>2.395856e+04</td>\n",
              "      <td>2.654510e+03</td>\n",
              "    </tr>\n",
              "    <tr>\n",
              "      <th>std</th>\n",
              "      <td>6.561491e+07</td>\n",
              "      <td>3.529553e+03</td>\n",
              "      <td>3.533184e+03</td>\n",
              "      <td>3.525347e+03</td>\n",
              "      <td>3.529522e+03</td>\n",
              "      <td>3.476243e+01</td>\n",
              "      <td>8.829950e+04</td>\n",
              "      <td>3.529271e+03</td>\n",
              "    </tr>\n",
              "    <tr>\n",
              "      <th>min</th>\n",
              "      <td>1.325318e+09</td>\n",
              "      <td>3.800000e+00</td>\n",
              "      <td>3.800000e+00</td>\n",
              "      <td>1.500000e+00</td>\n",
              "      <td>1.500000e+00</td>\n",
              "      <td>0.000000e+00</td>\n",
              "      <td>0.000000e+00</td>\n",
              "      <td>3.800000e+00</td>\n",
              "    </tr>\n",
              "    <tr>\n",
              "      <th>25%</th>\n",
              "      <td>1.382000e+09</td>\n",
              "      <td>3.489800e+02</td>\n",
              "      <td>3.491500e+02</td>\n",
              "      <td>3.487800e+02</td>\n",
              "      <td>3.489900e+02</td>\n",
              "      <td>4.500000e-01</td>\n",
              "      <td>2.480382e+02</td>\n",
              "      <td>3.489681e+02</td>\n",
              "    </tr>\n",
              "    <tr>\n",
              "      <th>50%</th>\n",
              "      <td>1.439071e+09</td>\n",
              "      <td>6.595600e+02</td>\n",
              "      <td>6.600000e+02</td>\n",
              "      <td>6.589900e+02</td>\n",
              "      <td>6.596200e+02</td>\n",
              "      <td>2.095163e+00</td>\n",
              "      <td>1.814312e+03</td>\n",
              "      <td>6.595521e+02</td>\n",
              "    </tr>\n",
              "    <tr>\n",
              "      <th>75%</th>\n",
              "      <td>1.495753e+09</td>\n",
              "      <td>4.045492e+03</td>\n",
              "      <td>4.049115e+03</td>\n",
              "      <td>4.042050e+03</td>\n",
              "      <td>4.045400e+03</td>\n",
              "      <td>8.284949e+00</td>\n",
              "      <td>1.303504e+04</td>\n",
              "      <td>4.045115e+03</td>\n",
              "    </tr>\n",
              "    <tr>\n",
              "      <th>max</th>\n",
              "      <td>1.552435e+09</td>\n",
              "      <td>1.966576e+04</td>\n",
              "      <td>1.966600e+04</td>\n",
              "      <td>1.964996e+04</td>\n",
              "      <td>1.966575e+04</td>\n",
              "      <td>5.853852e+03</td>\n",
              "      <td>5.483271e+06</td>\n",
              "      <td>1.966330e+04</td>\n",
              "    </tr>\n",
              "  </tbody>\n",
              "</table>\n",
              "</div>"
            ],
            "text/plain": [
              "          Timestamp          Open          High           Low         Close  \\\n",
              "count  3.778817e+06  2.551132e+06  2.551132e+06  2.551132e+06  2.551132e+06   \n",
              "mean   1.438908e+09  2.654668e+03  2.656783e+03  2.652286e+03  2.654650e+03   \n",
              "std    6.561491e+07  3.529553e+03  3.533184e+03  3.525347e+03  3.529522e+03   \n",
              "min    1.325318e+09  3.800000e+00  3.800000e+00  1.500000e+00  1.500000e+00   \n",
              "25%    1.382000e+09  3.489800e+02  3.491500e+02  3.487800e+02  3.489900e+02   \n",
              "50%    1.439071e+09  6.595600e+02  6.600000e+02  6.589900e+02  6.596200e+02   \n",
              "75%    1.495753e+09  4.045492e+03  4.049115e+03  4.042050e+03  4.045400e+03   \n",
              "max    1.552435e+09  1.966576e+04  1.966600e+04  1.964996e+04  1.966575e+04   \n",
              "\n",
              "       Volume_(BTC)  Volume_(Currency)  Weighted_Price  \n",
              "count  2.551132e+06       2.551132e+06    2.551132e+06  \n",
              "mean   1.068140e+01       2.395856e+04    2.654510e+03  \n",
              "std    3.476243e+01       8.829950e+04    3.529271e+03  \n",
              "min    0.000000e+00       0.000000e+00    3.800000e+00  \n",
              "25%    4.500000e-01       2.480382e+02    3.489681e+02  \n",
              "50%    2.095163e+00       1.814312e+03    6.595521e+02  \n",
              "75%    8.284949e+00       1.303504e+04    4.045115e+03  \n",
              "max    5.853852e+03       5.483271e+06    1.966330e+04  "
            ]
          },
          "metadata": {
            "tags": []
          },
          "execution_count": 5
        }
      ]
    },
    {
      "metadata": {
        "id": "X1JNWvmM0fQ2",
        "colab_type": "code",
        "outputId": "4572ca93-2fed-4831-842e-ba0eeaa7c82c",
        "colab": {
          "base_uri": "https://localhost:8080/",
          "height": 204
        }
      },
      "cell_type": "code",
      "source": [
        "train_df.head()"
      ],
      "execution_count": 6,
      "outputs": [
        {
          "output_type": "execute_result",
          "data": {
            "text/html": [
              "<div>\n",
              "<style scoped>\n",
              "    .dataframe tbody tr th:only-of-type {\n",
              "        vertical-align: middle;\n",
              "    }\n",
              "\n",
              "    .dataframe tbody tr th {\n",
              "        vertical-align: top;\n",
              "    }\n",
              "\n",
              "    .dataframe thead th {\n",
              "        text-align: right;\n",
              "    }\n",
              "</style>\n",
              "<table border=\"1\" class=\"dataframe\">\n",
              "  <thead>\n",
              "    <tr style=\"text-align: right;\">\n",
              "      <th></th>\n",
              "      <th>Timestamp</th>\n",
              "      <th>Open</th>\n",
              "      <th>High</th>\n",
              "      <th>Low</th>\n",
              "      <th>Close</th>\n",
              "      <th>Volume_(BTC)</th>\n",
              "      <th>Volume_(Currency)</th>\n",
              "      <th>Weighted_Price</th>\n",
              "    </tr>\n",
              "  </thead>\n",
              "  <tbody>\n",
              "    <tr>\n",
              "      <th>0</th>\n",
              "      <td>1325317920</td>\n",
              "      <td>4.39</td>\n",
              "      <td>4.39</td>\n",
              "      <td>4.39</td>\n",
              "      <td>4.39</td>\n",
              "      <td>0.455581</td>\n",
              "      <td>2.0</td>\n",
              "      <td>4.39</td>\n",
              "    </tr>\n",
              "    <tr>\n",
              "      <th>1</th>\n",
              "      <td>1325317980</td>\n",
              "      <td>NaN</td>\n",
              "      <td>NaN</td>\n",
              "      <td>NaN</td>\n",
              "      <td>NaN</td>\n",
              "      <td>NaN</td>\n",
              "      <td>NaN</td>\n",
              "      <td>NaN</td>\n",
              "    </tr>\n",
              "    <tr>\n",
              "      <th>2</th>\n",
              "      <td>1325318040</td>\n",
              "      <td>NaN</td>\n",
              "      <td>NaN</td>\n",
              "      <td>NaN</td>\n",
              "      <td>NaN</td>\n",
              "      <td>NaN</td>\n",
              "      <td>NaN</td>\n",
              "      <td>NaN</td>\n",
              "    </tr>\n",
              "    <tr>\n",
              "      <th>3</th>\n",
              "      <td>1325318100</td>\n",
              "      <td>NaN</td>\n",
              "      <td>NaN</td>\n",
              "      <td>NaN</td>\n",
              "      <td>NaN</td>\n",
              "      <td>NaN</td>\n",
              "      <td>NaN</td>\n",
              "      <td>NaN</td>\n",
              "    </tr>\n",
              "    <tr>\n",
              "      <th>4</th>\n",
              "      <td>1325318160</td>\n",
              "      <td>NaN</td>\n",
              "      <td>NaN</td>\n",
              "      <td>NaN</td>\n",
              "      <td>NaN</td>\n",
              "      <td>NaN</td>\n",
              "      <td>NaN</td>\n",
              "      <td>NaN</td>\n",
              "    </tr>\n",
              "  </tbody>\n",
              "</table>\n",
              "</div>"
            ],
            "text/plain": [
              "    Timestamp  Open  High   Low  Close  Volume_(BTC)  Volume_(Currency)  \\\n",
              "0  1325317920  4.39  4.39  4.39   4.39      0.455581                2.0   \n",
              "1  1325317980   NaN   NaN   NaN    NaN           NaN                NaN   \n",
              "2  1325318040   NaN   NaN   NaN    NaN           NaN                NaN   \n",
              "3  1325318100   NaN   NaN   NaN    NaN           NaN                NaN   \n",
              "4  1325318160   NaN   NaN   NaN    NaN           NaN                NaN   \n",
              "\n",
              "   Weighted_Price  \n",
              "0            4.39  \n",
              "1             NaN  \n",
              "2             NaN  \n",
              "3             NaN  \n",
              "4             NaN  "
            ]
          },
          "metadata": {
            "tags": []
          },
          "execution_count": 6
        }
      ]
    },
    {
      "metadata": {
        "colab_type": "code",
        "id": "22GsED9u9QWt",
        "outputId": "fa0be721-9d15-48b7-e71f-0f67eec52aad",
        "colab": {
          "base_uri": "https://localhost:8080/",
          "height": 204
        }
      },
      "cell_type": "code",
      "source": [
        "a = train_df[1200000:].fillna(method=\"backfill\")\n",
        "a.head()"
      ],
      "execution_count": 7,
      "outputs": [
        {
          "output_type": "execute_result",
          "data": {
            "text/html": [
              "<div>\n",
              "<style scoped>\n",
              "    .dataframe tbody tr th:only-of-type {\n",
              "        vertical-align: middle;\n",
              "    }\n",
              "\n",
              "    .dataframe tbody tr th {\n",
              "        vertical-align: top;\n",
              "    }\n",
              "\n",
              "    .dataframe thead th {\n",
              "        text-align: right;\n",
              "    }\n",
              "</style>\n",
              "<table border=\"1\" class=\"dataframe\">\n",
              "  <thead>\n",
              "    <tr style=\"text-align: right;\">\n",
              "      <th></th>\n",
              "      <th>Timestamp</th>\n",
              "      <th>Open</th>\n",
              "      <th>High</th>\n",
              "      <th>Low</th>\n",
              "      <th>Close</th>\n",
              "      <th>Volume_(BTC)</th>\n",
              "      <th>Volume_(Currency)</th>\n",
              "      <th>Weighted_Price</th>\n",
              "    </tr>\n",
              "  </thead>\n",
              "  <tbody>\n",
              "    <tr>\n",
              "      <th>1200000</th>\n",
              "      <td>1397317920</td>\n",
              "      <td>423.70</td>\n",
              "      <td>423.70</td>\n",
              "      <td>423.68</td>\n",
              "      <td>423.68</td>\n",
              "      <td>4.000000</td>\n",
              "      <td>1694.754000</td>\n",
              "      <td>423.688500</td>\n",
              "    </tr>\n",
              "    <tr>\n",
              "      <th>1200001</th>\n",
              "      <td>1397317980</td>\n",
              "      <td>423.67</td>\n",
              "      <td>423.67</td>\n",
              "      <td>423.67</td>\n",
              "      <td>423.67</td>\n",
              "      <td>0.950200</td>\n",
              "      <td>402.571234</td>\n",
              "      <td>423.670000</td>\n",
              "    </tr>\n",
              "    <tr>\n",
              "      <th>1200002</th>\n",
              "      <td>1397318040</td>\n",
              "      <td>423.60</td>\n",
              "      <td>423.60</td>\n",
              "      <td>423.55</td>\n",
              "      <td>423.55</td>\n",
              "      <td>1.517910</td>\n",
              "      <td>642.931121</td>\n",
              "      <td>423.563400</td>\n",
              "    </tr>\n",
              "    <tr>\n",
              "      <th>1200003</th>\n",
              "      <td>1397318100</td>\n",
              "      <td>423.55</td>\n",
              "      <td>423.55</td>\n",
              "      <td>423.55</td>\n",
              "      <td>423.55</td>\n",
              "      <td>1.000000</td>\n",
              "      <td>423.550000</td>\n",
              "      <td>423.550000</td>\n",
              "    </tr>\n",
              "    <tr>\n",
              "      <th>1200004</th>\n",
              "      <td>1397318160</td>\n",
              "      <td>423.48</td>\n",
              "      <td>423.49</td>\n",
              "      <td>423.48</td>\n",
              "      <td>423.49</td>\n",
              "      <td>1.039435</td>\n",
              "      <td>440.186555</td>\n",
              "      <td>423.486431</td>\n",
              "    </tr>\n",
              "  </tbody>\n",
              "</table>\n",
              "</div>"
            ],
            "text/plain": [
              "          Timestamp    Open    High     Low   Close  Volume_(BTC)  \\\n",
              "1200000  1397317920  423.70  423.70  423.68  423.68      4.000000   \n",
              "1200001  1397317980  423.67  423.67  423.67  423.67      0.950200   \n",
              "1200002  1397318040  423.60  423.60  423.55  423.55      1.517910   \n",
              "1200003  1397318100  423.55  423.55  423.55  423.55      1.000000   \n",
              "1200004  1397318160  423.48  423.49  423.48  423.49      1.039435   \n",
              "\n",
              "         Volume_(Currency)  Weighted_Price  \n",
              "1200000        1694.754000      423.688500  \n",
              "1200001         402.571234      423.670000  \n",
              "1200002         642.931121      423.563400  \n",
              "1200003         423.550000      423.550000  \n",
              "1200004         440.186555      423.486431  "
            ]
          },
          "metadata": {
            "tags": []
          },
          "execution_count": 7
        }
      ]
    },
    {
      "metadata": {
        "colab_type": "code",
        "id": "Gvvb12NM_lMC",
        "outputId": "088c87ae-32b2-4f22-c924-796cc68814fe",
        "scrolled": true,
        "colab": {
          "base_uri": "https://localhost:8080/",
          "height": 780
        }
      },
      "cell_type": "code",
      "source": [
        "weighted_price = np.array(a.iloc[:,[7]])\n",
        "plt.figure(figsize=(14,6))\n",
        "plt.title(\"Bitcoin Closing Price\")\n",
        "plt.grid()\n",
        "plt.plot(weighted_price)\n",
        "sclow = MinMaxScaler()\n",
        "low_price = np.array(a.iloc[:,[3]])\n",
        "low_priceSC = sclow.fit_transform(low_price)\n",
        "sc = MinMaxScaler()\n",
        "weighted_priceSC = sc.fit_transform(weighted_price)\n",
        "plt.figure(figsize=(14,6))\n",
        "plt.title(\"Scaled\")\n",
        "plt.grid()\n",
        "plt.plot(weighted_priceSC)"
      ],
      "execution_count": 8,
      "outputs": [
        {
          "output_type": "execute_result",
          "data": {
            "text/plain": [
              "[<matplotlib.lines.Line2D at 0x7fdb0d78d278>]"
            ]
          },
          "metadata": {
            "tags": []
          },
          "execution_count": 8
        },
        {
          "output_type": "display_data",
          "data": {
            "image/png": "[encoded data removed]",
            "text/plain": [
              "<Figure size 1008x432 with 1 Axes>"
            ]
          },
          "metadata": {
            "tags": []
          }
        },
        {
          "output_type": "display_data",
          "data": {
            "image/png": "[encoded data removed]",
            "text/plain": [
              "<Figure size 1008x432 with 1 Axes>"
            ]
          },
          "metadata": {
            "tags": []
          }
        }
      ]
    },
    {
      "metadata": {
        "colab_type": "code",
        "id": "F1Fc28Gtcn_B",
        "colab": {}
      },
      "cell_type": "code",
      "source": [
        "def systematic_mean_absolute_percentage_error(y_true, y_pred):\n",
        "    n = y_true.shape[0]\n",
        "    res = 0\n",
        "    for i in range(n):\n",
        "        num = np.abs(y_pred[i] - y_true[i])\n",
        "        dem = (np.abs(y_true[i]) + np.abs(y_pred[i]))/2\n",
        "        res += num/dem\n",
        "    res = np.squeeze(res)\n",
        "    return 100*(res/n)"
      ],
      "execution_count": 0,
      "outputs": []
    },
    {
      "metadata": {
        "id": "uP2v3Y2M0fRV",
        "colab_type": "code",
        "colab": {}
      },
      "cell_type": "code",
      "source": [
        "def mean_absolute_scaled_error(y_true, y_pred):\n",
        "    n = y_true.shape[0]\n",
        "    res = 0\n",
        "    dem = 0\n",
        "    num = 0\n",
        "    for i in range(n-1):\n",
        "        dem += abs(y_true[i+1] - y_true[i])\n",
        "    for i in range(n):\n",
        "        num = abs(y_pred[i] - y_true[i])\n",
        "        num = np.squeeze(num)\n",
        "        res += num/dem\n",
        "    res = np.squeeze(res)\n",
        "    #print(num, dem, res)\n",
        "    return res/n"
      ],
      "execution_count": 0,
      "outputs": []
    },
    {
      "metadata": {
        "colab_type": "code",
        "id": "e-ErWRgx9GkA",
        "colab": {}
      },
      "cell_type": "code",
      "source": [
        "def func(timestep, idx):\n",
        "    timestep = timestep\n",
        "    X = []\n",
        "    y = []\n",
        "    for i in range(timestep, len(weighted_priceSC)):\n",
        "        X.append(weighted_priceSC[i-timestep:i, :])\n",
        "        y.append(low_priceSC[i])\n",
        "    X, y = np.array(X), np.array(y)\n",
        "    #print(X.shape, y.shape)\n",
        "    X_train = X[:2500000,:]\n",
        "    X_test = X[2500000:,:]\n",
        "\n",
        "    y_train = y[:2500000]\n",
        "    y_test = y[2500000:]\n",
        "    %%time\n",
        "    # The LSTM architecture\n",
        "    regressor = Sequential()\n",
        "    # First LSTM layer with Dropout regularisation\n",
        "    regressor.add(CuDNNLSTM(units=50, return_sequences=True, input_shape=(X_train.shape[1],1)))\n",
        "    regressor.add(Dropout(0.2))\n",
        "    # Second LSTM layer\n",
        "    regressor.add(CuDNNLSTM(units=50, return_sequences=True))\n",
        "    regressor.add(Dropout(0.2))\n",
        "    # Third LSTM layer\n",
        "    regressor.add(CuDNNLSTM(units=50, return_sequences=True))\n",
        "    regressor.add(Dropout(0.5))\n",
        "    # Fourth LSTM layer\n",
        "    regressor.add(CuDNNLSTM(units=50))\n",
        "    regressor.add(Dropout(0.5))\n",
        "    # The output layer\n",
        "    regressor.add(Dense(units=1))\n",
        "\n",
        "    # Compiling the RNN\n",
        "    regressor.compile(optimizer='adam', loss='mean_absolute_error')\n",
        "    # Fitting to the training set\n",
        "    regressor.fit(X_train, y_train, epochs=1, batch_size=500)\n",
        "    #regressor.save('modelw_l'+str(idx)+'.h5')\n",
        "    #regressor = tf.keras.models.load_model('modelbigw_l'+str(idx)+'.h5')\n",
        "    y_pred = regressor.predict(X_test)\n",
        "    return mean_absolute_error(y_test, y_pred), systematic_mean_absolute_percentage_error(y_test, y_pred), mean_absolute_scaled_error(y_test, y_pred), mean_squared_error(y_test, y_pred)"
      ],
      "execution_count": 0,
      "outputs": []
    },
    {
      "metadata": {
        "colab_type": "code",
        "id": "1LT3KuGZ-hfB",
        "outputId": "3a31037a-0b84-405d-cd29-0fe2c9ba643c",
        "colab": {
          "base_uri": "https://localhost:8080/",
          "height": 357
        }
      },
      "cell_type": "code",
      "source": [
        "mae_l = []\n",
        "smape_l = []\n",
        "mase_l = []\n",
        "mse_l = []\n",
        "for i in range(50,201, 50):\n",
        "    print(i)\n",
        "    mae, smape, mase, mse = func(i,i)\n",
        "    mae_l.append(mae)\n",
        "    smape_l.append(smape)\n",
        "    mase_l.append(mase)\n",
        "    mse_l.append(mse)"
      ],
      "execution_count": 22,
      "outputs": [
        {
          "output_type": "stream",
          "text": [
            "50\n",
            "CPU times: user 3 µs, sys: 1e+03 ns, total: 4 µs\n",
            "Wall time: 6.44 µs\n",
            "Epoch 1/1\n",
            "2500000/2500000 [==============================] - 127s 51us/step - loss: 0.0149\n",
            "100\n",
            "CPU times: user 3 µs, sys: 0 ns, total: 3 µs\n",
            "Wall time: 6.68 µs\n",
            "Epoch 1/1\n",
            "2500000/2500000 [==============================] - 225s 90us/step - loss: 0.0149\n",
            "150\n",
            "CPU times: user 3 µs, sys: 1e+03 ns, total: 4 µs\n",
            "Wall time: 7.15 µs\n",
            "Epoch 1/1\n",
            "2500000/2500000 [==============================] - 331s 132us/step - loss: 0.0149\n",
            "200\n",
            "CPU times: user 3 µs, sys: 0 ns, total: 3 µs\n",
            "Wall time: 8.58 µs\n",
            "Epoch 1/1\n",
            "2500000/2500000 [==============================] - 436s 174us/step - loss: 0.0149\n"
          ],
          "name": "stdout"
        }
      ]
    },
    {
      "metadata": {
        "colab_type": "code",
        "id": "bJhi5a37XP_a",
        "colab": {
          "base_uri": "https://localhost:8080/",
          "height": 612
        },
        "outputId": "dbf882b8-7f24-4725-c426-97d60006f5d3"
      },
      "cell_type": "code",
      "source": [
        "plt.plot(mae_l)"
      ],
      "execution_count": 23,
      "outputs": [
        {
          "output_type": "execute_result",
          "data": {
            "text/plain": [
              "[<matplotlib.lines.Line2D at 0x7fdad62926d8>]"
            ]
          },
          "metadata": {
            "tags": []
          },
          "execution_count": 23
        },
        {
          "output_type": "display_data",
          "data": {
            "image/png": "[encoded data removed]",
            "text/plain": [
              "<Figure size 1440x720 with 1 Axes>"
            ]
          },
          "metadata": {
            "tags": []
          }
        }
      ]
    },
    {
      "metadata": {
        "colab_type": "code",
        "id": "W9sm2pcfyk-K",
        "colab": {
          "base_uri": "https://localhost:8080/",
          "height": 612
        },
        "outputId": "1a2eb486-6ff2-4285-b313-1b3e93ada199"
      },
      "cell_type": "code",
      "source": [
        "plt.plot(smape_l)"
      ],
      "execution_count": 24,
      "outputs": [
        {
          "output_type": "execute_result",
          "data": {
            "text/plain": [
              "[<matplotlib.lines.Line2D at 0x7fdad614c7f0>]"
            ]
          },
          "metadata": {
            "tags": []
          },
          "execution_count": 24
        },
        {
          "output_type": "display_data",
          "data": {
            "image/png": "[encoded data removed]",
            "text/plain": [
              "<Figure size 1440x720 with 1 Axes>"
            ]
          },
          "metadata": {
            "tags": []
          }
        }
      ]
    },
    {
      "metadata": {
        "id": "AjR4dBSH0fRp",
        "colab_type": "code",
        "colab": {
          "base_uri": "https://localhost:8080/",
          "height": 612
        },
        "outputId": "feb90956-3bc5-4414-c749-09f8ee410297"
      },
      "cell_type": "code",
      "source": [
        "plt.plot(mase_l)"
      ],
      "execution_count": 25,
      "outputs": [
        {
          "output_type": "execute_result",
          "data": {
            "text/plain": [
              "[<matplotlib.lines.Line2D at 0x7fdad60ea2b0>]"
            ]
          },
          "metadata": {
            "tags": []
          },
          "execution_count": 25
        },
        {
          "output_type": "display_data",
          "data": {
            "image/png": "[encoded data removed]",
            "text/plain": [
              "<Figure size 1440x720 with 1 Axes>"
            ]
          },
          "metadata": {
            "tags": []
          }
        }
      ]
    },
    {
      "metadata": {
        "id": "WOb5RTNt0fRs",
        "colab_type": "code",
        "colab": {
          "base_uri": "https://localhost:8080/",
          "height": 612
        },
        "outputId": "cc7c3d7e-a2ca-4b5f-b391-f9648ccfbdfc"
      },
      "cell_type": "code",
      "source": [
        "plt.plot(mse_l)"
      ],
      "execution_count": 26,
      "outputs": [
        {
          "output_type": "execute_result",
          "data": {
            "text/plain": [
              "[<matplotlib.lines.Line2D at 0x7fdad60c5128>]"
            ]
          },
          "metadata": {
            "tags": []
          },
          "execution_count": 26
        },
        {
          "output_type": "display_data",
          "data": {
            "image/png": "[encoded data removed]",
            "text/plain": [
              "<Figure size 1440x720 with 1 Axes>"
            ]
          },
          "metadata": {
            "tags": []
          }
        }
      ]
    },
    {
      "metadata": {
        "id": "48yipAXkOhei",
        "colab_type": "code",
        "colab": {
          "base_uri": "https://localhost:8080/",
          "height": 102
        },
        "outputId": "e373f7a0-d0be-462a-845c-9bef18425f01"
      },
      "cell_type": "code",
      "source": [
        "print(\"Units = 50 in each hidden layer:\\nMean absolute error {0}\\nSystematic mean absolute percentage error {1} \\nMean_absolute_scaled_error {2}\\nMean square error {3}\".format(mae_l[0],smape_l[0], mase_l[0], mse_l[0]))"
      ],
      "execution_count": 28,
      "outputs": [
        {
          "output_type": "stream",
          "text": [
            "Units = 50 in each hidden layer:\n",
            "Mean absolute error 0.00561585904002963\n",
            "Systematic mean absolute percentage error 2.970939104294934 \n",
            "Mean_absolute_scaled_error 0.0010682088354152998\n",
            "Mean square error 3.17826654227592e-05\n"
          ],
          "name": "stdout"
        }
      ]
    },
    {
      "metadata": {
        "id": "K4Y-JHQyzLBO",
        "colab_type": "code",
        "colab": {
          "base_uri": "https://localhost:8080/",
          "height": 102
        },
        "outputId": "5dffb457-c1c0-4316-b7e6-2f00620c52db"
      },
      "cell_type": "code",
      "source": [
        "print(\"Units = 100 in each hidden layer:\\nMean absolute error {0}\\nSystematic mean absolute percentage error {1} \\nMean_absolute_scaled_error {2}\\nMean square error {3}\".format(mae_l[1],smape_l[1], mase_l[1], mse_l[1]))"
      ],
      "execution_count": 29,
      "outputs": [
        {
          "output_type": "stream",
          "text": [
            "Units = 100 in each hidden layer:\n",
            "Mean absolute error 0.0021591289693029276\n",
            "Systematic mean absolute percentage error 1.1573948723467946 \n",
            "Mean_absolute_scaled_error 0.00041092614603073003\n",
            "Mean square error 4.766737772974536e-06\n"
          ],
          "name": "stdout"
        }
      ]
    },
    {
      "metadata": {
        "id": "Y9a9lOXizVy6",
        "colab_type": "code",
        "colab": {
          "base_uri": "https://localhost:8080/",
          "height": 102
        },
        "outputId": "17a6c508-d964-4c1e-8928-336fb89adcb9"
      },
      "cell_type": "code",
      "source": [
        "print(\"Units = 150 in each hidden layer:\\nMean absolute error {0}\\nSystematic mean absolute percentage error {1} \\nMean_absolute_scaled_error {2}\\nMean square error {3}\".format(mae_l[2],smape_l[2], mase_l[2], mse_l[2]))"
      ],
      "execution_count": 30,
      "outputs": [
        {
          "output_type": "stream",
          "text": [
            "Units = 150 in each hidden layer:\n",
            "Mean absolute error 0.002077593246534409\n",
            "Systematic mean absolute percentage error 1.1078433574055144 \n",
            "Mean_absolute_scaled_error 0.0003956337276518276\n",
            "Mean square error 4.455283734499833e-06\n"
          ],
          "name": "stdout"
        }
      ]
    },
    {
      "metadata": {
        "id": "9VxWjUn4zcZD",
        "colab_type": "code",
        "colab": {
          "base_uri": "https://localhost:8080/",
          "height": 102
        },
        "outputId": "597558a5-9bc5-4b88-eae7-d4573db5546f"
      },
      "cell_type": "code",
      "source": [
        "print(\"Units = 200 in each hidden layer:\\nMean absolute error {0}\\nSystematic mean absolute percentage error {1} \\nMean_absolute_scaled_error {2}\\nMean square error {3}\".format(mae_l[3],smape_l[3], mase_l[3], mse_l[3]))"
      ],
      "execution_count": 31,
      "outputs": [
        {
          "output_type": "stream",
          "text": [
            "Units = 200 in each hidden layer:\n",
            "Mean absolute error 0.0012600961031271694\n",
            "Systematic mean absolute percentage error 0.6795956413784451 \n",
            "Mean_absolute_scaled_error 0.00024012509418182369\n",
            "Mean square error 1.6742141335698947e-06\n"
          ],
          "name": "stdout"
        }
      ]
    },
    {
      "metadata": {
        "id": "F16_FNEuzhL-",
        "colab_type": "code",
        "colab": {}
      },
      "cell_type": "code",
      "source": [
        ""
      ],
      "execution_count": 0,
      "outputs": []
    }
  ]
}