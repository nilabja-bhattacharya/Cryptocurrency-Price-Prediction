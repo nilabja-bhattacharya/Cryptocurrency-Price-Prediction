{
  "nbformat": 4,
  "nbformat_minor": 0,
  "metadata": {
    "colab": {
      "name": "comparewithtimestepsmallw_l.ipynb",
      "version": "0.3.2",
      "provenance": [],
      "collapsed_sections": [],
      "include_colab_link": true
    },
    "language_info": {
      "codemirror_mode": {
        "name": "ipython",
        "version": 3
      },
      "file_extension": ".py",
      "mimetype": "text/x-python",
      "name": "python",
      "nbconvert_exporter": "python",
      "pygments_lexer": "ipython3",
      "version": "3.6.7"
    },
    "kernelspec": {
      "display_name": "Python 3",
      "language": "python",
      "name": "python3"
    },
    "accelerator": "GPU"
  },
  "cells": [
    {
      "cell_type": "markdown",
      "metadata": {
        "id": "view-in-github",
        "colab_type": "text"
      },
      "source": [
        "<a href=\"https://colab.research.google.com/github/nilabja10201992/Cryptocurrency-Price-Prediction/blob/master/comparewithtimestepsmallw_l.ipynb\" target=\"_parent\"><img src=\"https://colab.research.google.com/assets/colab-badge.svg\" alt=\"Open In Colab\"/></a>"
      ]
    },
    {
      "metadata": {
        "colab_type": "code",
        "id": "3IZZ0jIb_Ld4",
        "outputId": "738e5173-3f70-4c69-dbc5-dd14bf7fb554",
        "colab": {
          "base_uri": "https://localhost:8080/",
          "height": 224
        }
      },
      "cell_type": "code",
      "source": [
        "!wget --header=\"Host: storage.googleapis.com\" --header=\"User-Agent: Mozilla/5.0 (X11; Linux x86_64) AppleWebKit/537.36 (KHTML, like Gecko) Chrome/73.0.3683.103 Safari/537.36\" --header=\"Accept: text/html,application/xhtml+xml,application/xml;q=0.9,image/webp,image/apng,*/*;q=0.8,application/signed-exchange;v=b3\" --header=\"Accept-Language: en-US,en;q=0.9,la;q=0.8,hi;q=0.7,fr;q=0.6\" --header=\"Referer: https://www.kaggle.com/\" \"https://storage.googleapis.com/kaggle-datasets/1346/330249/bitstampUSD_1-min_data_2012-01-01_to_2019-03-13.csv.zip?GoogleAccessId=web-data@kaggle-161607.iam.gserviceaccount.com&Expires=1556728085&Signature=XGXS3hu63l4vMnFgnrKdryrBxzOedh6xVvzb2OOevAEcPMUAB7PtYA5VA%2BLQvfZ8KsbH5jAgx2UH3ZB0qf8LueI11aT4NyjHsrW4lcKUVh9ydPdFoz4UukeP%2BNHA5JT0cBx7%2BBcarqyPuICUpdcdlB0PM7Qgcze3Cz0BgfvnXgtMs7kacjbM1l7vGTnTJSxuLBnMSBwugGO7D6Pnd6jQqLr%2BrXmkr2myfKB8n61Y6yzg38KAvMgqiThT7betBTa0k7ect7KcmSlPyu3dYZ4tLfg6DeNpTi9nKn8i%2FazRO6mFj%2BbpMqJdNxwd%2FMGDG86v%2BLAnbfmyGRtEBby4ZsqYmA%3D%3D\" -O \"bitstampUSD_1-min_data_2012-01-01_to_2019-03-13.csv.zip\" -c"
      ],
      "execution_count": 1,
      "outputs": [
        {
          "output_type": "stream",
          "text": [
            "--2019-04-29 04:19:30--  https://storage.googleapis.com/kaggle-datasets/1346/330249/bitstampUSD_1-min_data_2012-01-01_to_2019-03-13.csv.zip?GoogleAccessId=web-data@kaggle-161607.iam.gserviceaccount.com&Expires=1556728085&Signature=XGXS3hu63l4vMnFgnrKdryrBxzOedh6xVvzb2OOevAEcPMUAB7PtYA5VA%2BLQvfZ8KsbH5jAgx2UH3ZB0qf8LueI11aT4NyjHsrW4lcKUVh9ydPdFoz4UukeP%2BNHA5JT0cBx7%2BBcarqyPuICUpdcdlB0PM7Qgcze3Cz0BgfvnXgtMs7kacjbM1l7vGTnTJSxuLBnMSBwugGO7D6Pnd6jQqLr%2BrXmkr2myfKB8n61Y6yzg38KAvMgqiThT7betBTa0k7ect7KcmSlPyu3dYZ4tLfg6DeNpTi9nKn8i%2FazRO6mFj%2BbpMqJdNxwd%2FMGDG86v%2BLAnbfmyGRtEBby4ZsqYmA%3D%3D\n",
            "Resolving storage.googleapis.com (storage.googleapis.com)... 108.177.126.128, 2a00:1450:4013:c01::80\n",
            "Connecting to storage.googleapis.com (storage.googleapis.com)|108.177.126.128|:443... connected.\n",
            "HTTP request sent, awaiting response... 200 OK\n",
            "Length: 71025792 (68M) [application/zip]\n",
            "Saving to: ‘bitstampUSD_1-min_data_2012-01-01_to_2019-03-13.csv.zip’\n",
            "\n",
            "bitstampUSD_1-min_d 100%[===================>]  67.74M   163MB/s    in 0.4s    \n",
            "\n",
            "2019-04-29 04:19:31 (163 MB/s) - ‘bitstampUSD_1-min_data_2012-01-01_to_2019-03-13.csv.zip’ saved [71025792/71025792]\n",
            "\n"
          ],
          "name": "stdout"
        }
      ]
    },
    {
      "metadata": {
        "colab_type": "code",
        "id": "5wPuBqQdMFg_",
        "outputId": "5392fba0-d308-43ab-b255-295b48162293",
        "colab": {
          "base_uri": "https://localhost:8080/",
          "height": 51
        }
      },
      "cell_type": "code",
      "source": [
        "!unzip bitstampUSD_1-min_data_2012-01-01_to_2019-03-13.csv.zip"
      ],
      "execution_count": 2,
      "outputs": [
        {
          "output_type": "stream",
          "text": [
            "Archive:  bitstampUSD_1-min_data_2012-01-01_to_2019-03-13.csv.zip\n",
            "  inflating: bitstampUSD_1-min_data_2012-01-01_to_2019-03-13.csv  \n"
          ],
          "name": "stdout"
        }
      ]
    },
    {
      "metadata": {
        "colab_type": "code",
        "id": "2C8gNtDxxCrQ",
        "outputId": "638c1b17-71f2-4ba8-b0f6-4f5b16d994d9",
        "colab": {
          "base_uri": "https://localhost:8080/",
          "height": 51
        }
      },
      "cell_type": "code",
      "source": [
        "!ls"
      ],
      "execution_count": 3,
      "outputs": [
        {
          "output_type": "stream",
          "text": [
            "bitstampUSD_1-min_data_2012-01-01_to_2019-03-13.csv\t sample_data\n",
            "bitstampUSD_1-min_data_2012-01-01_to_2019-03-13.csv.zip\n"
          ],
          "name": "stdout"
        }
      ]
    },
    {
      "metadata": {
        "colab_type": "code",
        "id": "L5E8OFf89J0I",
        "colab": {
          "base_uri": "https://localhost:8080/",
          "height": 34
        },
        "outputId": "72df8a46-a216-44c4-a7f2-5030aaafc64e"
      },
      "cell_type": "code",
      "source": [
        "import tensorflow as tf\n",
        "import numpy as np # linear algebra\n",
        "import pandas as pd # data processing, CSV file I/O (e.g. pd.read_csv)\n",
        "import matplotlib.pyplot as plt # data visualization\n",
        "\n",
        "# Input data files are available in the \"../input/\" directory.\n",
        "# For example, running this (by clicking run or pressing Shift+Enter) will list the files in the input directory\n",
        "\n",
        "import os\n",
        "import warnings\n",
        "warnings.filterwarnings(action='ignore')\n",
        "warnings.filterwarnings(action='ignore', category=DeprecationWarning)\n",
        "warnings.filterwarnings(action='ignore', category=FutureWarning)\n",
        "\n",
        "# Library for Learning\n",
        "from sklearn.model_selection import train_test_split\n",
        "from sklearn.preprocessing import MinMaxScaler\n",
        "from keras.models import Sequential\n",
        "from keras.layers import Dense, LSTM, Dropout, GRU, Bidirectional\n",
        "from keras.optimizers import SGD\n",
        "import math\n",
        "import time\n",
        "from sklearn.preprocessing import LabelEncoder\n",
        "from sklearn.preprocessing import OneHotEncoder\n",
        "from keras.utils import to_categorical\n",
        "from sklearn.metrics import mean_squared_error, mean_absolute_error\n"
      ],
      "execution_count": 4,
      "outputs": [
        {
          "output_type": "stream",
          "text": [
            "Using TensorFlow backend.\n"
          ],
          "name": "stderr"
        }
      ]
    },
    {
      "metadata": {
        "colab_type": "code",
        "id": "O3x7iqjb9Nhi",
        "outputId": "43605212-e04c-44a1-9748-849aeb16170f",
        "colab": {
          "base_uri": "https://localhost:8080/",
          "height": 297
        }
      },
      "cell_type": "code",
      "source": [
        "train_df = pd.read_csv(\"bitstampUSD_1-min_data_2012-01-01_to_2019-03-13.csv\")\n",
        "train_df.describe()"
      ],
      "execution_count": 5,
      "outputs": [
        {
          "output_type": "execute_result",
          "data": {
            "text/html": [
              "<div>\n",
              "<style scoped>\n",
              "    .dataframe tbody tr th:only-of-type {\n",
              "        vertical-align: middle;\n",
              "    }\n",
              "\n",
              "    .dataframe tbody tr th {\n",
              "        vertical-align: top;\n",
              "    }\n",
              "\n",
              "    .dataframe thead th {\n",
              "        text-align: right;\n",
              "    }\n",
              "</style>\n",
              "<table border=\"1\" class=\"dataframe\">\n",
              "  <thead>\n",
              "    <tr style=\"text-align: right;\">\n",
              "      <th></th>\n",
              "      <th>Timestamp</th>\n",
              "      <th>Open</th>\n",
              "      <th>High</th>\n",
              "      <th>Low</th>\n",
              "      <th>Close</th>\n",
              "      <th>Volume_(BTC)</th>\n",
              "      <th>Volume_(Currency)</th>\n",
              "      <th>Weighted_Price</th>\n",
              "    </tr>\n",
              "  </thead>\n",
              "  <tbody>\n",
              "    <tr>\n",
              "      <th>count</th>\n",
              "      <td>3.778817e+06</td>\n",
              "      <td>2.551132e+06</td>\n",
              "      <td>2.551132e+06</td>\n",
              "      <td>2.551132e+06</td>\n",
              "      <td>2.551132e+06</td>\n",
              "      <td>2.551132e+06</td>\n",
              "      <td>2.551132e+06</td>\n",
              "      <td>2.551132e+06</td>\n",
              "    </tr>\n",
              "    <tr>\n",
              "      <th>mean</th>\n",
              "      <td>1.438908e+09</td>\n",
              "      <td>2.654668e+03</td>\n",
              "      <td>2.656783e+03</td>\n",
              "      <td>2.652286e+03</td>\n",
              "      <td>2.654650e+03</td>\n",
              "      <td>1.068140e+01</td>\n",
              "      <td>2.395856e+04</td>\n",
              "      <td>2.654510e+03</td>\n",
              "    </tr>\n",
              "    <tr>\n",
              "      <th>std</th>\n",
              "      <td>6.561491e+07</td>\n",
              "      <td>3.529553e+03</td>\n",
              "      <td>3.533184e+03</td>\n",
              "      <td>3.525347e+03</td>\n",
              "      <td>3.529522e+03</td>\n",
              "      <td>3.476243e+01</td>\n",
              "      <td>8.829950e+04</td>\n",
              "      <td>3.529271e+03</td>\n",
              "    </tr>\n",
              "    <tr>\n",
              "      <th>min</th>\n",
              "      <td>1.325318e+09</td>\n",
              "      <td>3.800000e+00</td>\n",
              "      <td>3.800000e+00</td>\n",
              "      <td>1.500000e+00</td>\n",
              "      <td>1.500000e+00</td>\n",
              "      <td>0.000000e+00</td>\n",
              "      <td>0.000000e+00</td>\n",
              "      <td>3.800000e+00</td>\n",
              "    </tr>\n",
              "    <tr>\n",
              "      <th>25%</th>\n",
              "      <td>1.382000e+09</td>\n",
              "      <td>3.489800e+02</td>\n",
              "      <td>3.491500e+02</td>\n",
              "      <td>3.487800e+02</td>\n",
              "      <td>3.489900e+02</td>\n",
              "      <td>4.500000e-01</td>\n",
              "      <td>2.480382e+02</td>\n",
              "      <td>3.489681e+02</td>\n",
              "    </tr>\n",
              "    <tr>\n",
              "      <th>50%</th>\n",
              "      <td>1.439071e+09</td>\n",
              "      <td>6.595600e+02</td>\n",
              "      <td>6.600000e+02</td>\n",
              "      <td>6.589900e+02</td>\n",
              "      <td>6.596200e+02</td>\n",
              "      <td>2.095163e+00</td>\n",
              "      <td>1.814312e+03</td>\n",
              "      <td>6.595521e+02</td>\n",
              "    </tr>\n",
              "    <tr>\n",
              "      <th>75%</th>\n",
              "      <td>1.495753e+09</td>\n",
              "      <td>4.045492e+03</td>\n",
              "      <td>4.049115e+03</td>\n",
              "      <td>4.042050e+03</td>\n",
              "      <td>4.045400e+03</td>\n",
              "      <td>8.284949e+00</td>\n",
              "      <td>1.303504e+04</td>\n",
              "      <td>4.045115e+03</td>\n",
              "    </tr>\n",
              "    <tr>\n",
              "      <th>max</th>\n",
              "      <td>1.552435e+09</td>\n",
              "      <td>1.966576e+04</td>\n",
              "      <td>1.966600e+04</td>\n",
              "      <td>1.964996e+04</td>\n",
              "      <td>1.966575e+04</td>\n",
              "      <td>5.853852e+03</td>\n",
              "      <td>5.483271e+06</td>\n",
              "      <td>1.966330e+04</td>\n",
              "    </tr>\n",
              "  </tbody>\n",
              "</table>\n",
              "</div>"
            ],
            "text/plain": [
              "          Timestamp          Open          High           Low         Close  \\\n",
              "count  3.778817e+06  2.551132e+06  2.551132e+06  2.551132e+06  2.551132e+06   \n",
              "mean   1.438908e+09  2.654668e+03  2.656783e+03  2.652286e+03  2.654650e+03   \n",
              "std    6.561491e+07  3.529553e+03  3.533184e+03  3.525347e+03  3.529522e+03   \n",
              "min    1.325318e+09  3.800000e+00  3.800000e+00  1.500000e+00  1.500000e+00   \n",
              "25%    1.382000e+09  3.489800e+02  3.491500e+02  3.487800e+02  3.489900e+02   \n",
              "50%    1.439071e+09  6.595600e+02  6.600000e+02  6.589900e+02  6.596200e+02   \n",
              "75%    1.495753e+09  4.045492e+03  4.049115e+03  4.042050e+03  4.045400e+03   \n",
              "max    1.552435e+09  1.966576e+04  1.966600e+04  1.964996e+04  1.966575e+04   \n",
              "\n",
              "       Volume_(BTC)  Volume_(Currency)  Weighted_Price  \n",
              "count  2.551132e+06       2.551132e+06    2.551132e+06  \n",
              "mean   1.068140e+01       2.395856e+04    2.654510e+03  \n",
              "std    3.476243e+01       8.829950e+04    3.529271e+03  \n",
              "min    0.000000e+00       0.000000e+00    3.800000e+00  \n",
              "25%    4.500000e-01       2.480382e+02    3.489681e+02  \n",
              "50%    2.095163e+00       1.814312e+03    6.595521e+02  \n",
              "75%    8.284949e+00       1.303504e+04    4.045115e+03  \n",
              "max    5.853852e+03       5.483271e+06    1.966330e+04  "
            ]
          },
          "metadata": {
            "tags": []
          },
          "execution_count": 5
        }
      ]
    },
    {
      "metadata": {
        "colab_type": "code",
        "id": "22GsED9u9QWt",
        "colab": {
          "base_uri": "https://localhost:8080/",
          "height": 204
        },
        "outputId": "4b31ab90-c52b-4e44-db52-7ad74475bc51"
      },
      "cell_type": "code",
      "source": [
        "a = train_df[2500000:].fillna(method=\"backfill\")\n",
        "a.head()"
      ],
      "execution_count": 6,
      "outputs": [
        {
          "output_type": "execute_result",
          "data": {
            "text/html": [
              "<div>\n",
              "<style scoped>\n",
              "    .dataframe tbody tr th:only-of-type {\n",
              "        vertical-align: middle;\n",
              "    }\n",
              "\n",
              "    .dataframe tbody tr th {\n",
              "        vertical-align: top;\n",
              "    }\n",
              "\n",
              "    .dataframe thead th {\n",
              "        text-align: right;\n",
              "    }\n",
              "</style>\n",
              "<table border=\"1\" class=\"dataframe\">\n",
              "  <thead>\n",
              "    <tr style=\"text-align: right;\">\n",
              "      <th></th>\n",
              "      <th>Timestamp</th>\n",
              "      <th>Open</th>\n",
              "      <th>High</th>\n",
              "      <th>Low</th>\n",
              "      <th>Close</th>\n",
              "      <th>Volume_(BTC)</th>\n",
              "      <th>Volume_(Currency)</th>\n",
              "      <th>Weighted_Price</th>\n",
              "    </tr>\n",
              "  </thead>\n",
              "  <tbody>\n",
              "    <tr>\n",
              "      <th>2500000</th>\n",
              "      <td>1475706240</td>\n",
              "      <td>610.97</td>\n",
              "      <td>610.97</td>\n",
              "      <td>610.97</td>\n",
              "      <td>610.97</td>\n",
              "      <td>0.018135</td>\n",
              "      <td>11.080002</td>\n",
              "      <td>610.97</td>\n",
              "    </tr>\n",
              "    <tr>\n",
              "      <th>2500001</th>\n",
              "      <td>1475706300</td>\n",
              "      <td>610.97</td>\n",
              "      <td>610.97</td>\n",
              "      <td>610.97</td>\n",
              "      <td>610.97</td>\n",
              "      <td>0.018135</td>\n",
              "      <td>11.080002</td>\n",
              "      <td>610.97</td>\n",
              "    </tr>\n",
              "    <tr>\n",
              "      <th>2500002</th>\n",
              "      <td>1475706360</td>\n",
              "      <td>610.97</td>\n",
              "      <td>610.97</td>\n",
              "      <td>610.97</td>\n",
              "      <td>610.97</td>\n",
              "      <td>0.018135</td>\n",
              "      <td>11.080002</td>\n",
              "      <td>610.97</td>\n",
              "    </tr>\n",
              "    <tr>\n",
              "      <th>2500003</th>\n",
              "      <td>1475706420</td>\n",
              "      <td>610.97</td>\n",
              "      <td>610.97</td>\n",
              "      <td>610.97</td>\n",
              "      <td>610.97</td>\n",
              "      <td>0.018135</td>\n",
              "      <td>11.080002</td>\n",
              "      <td>610.97</td>\n",
              "    </tr>\n",
              "    <tr>\n",
              "      <th>2500004</th>\n",
              "      <td>1475706480</td>\n",
              "      <td>610.83</td>\n",
              "      <td>610.83</td>\n",
              "      <td>610.83</td>\n",
              "      <td>610.83</td>\n",
              "      <td>0.677783</td>\n",
              "      <td>414.010001</td>\n",
              "      <td>610.83</td>\n",
              "    </tr>\n",
              "  </tbody>\n",
              "</table>\n",
              "</div>"
            ],
            "text/plain": [
              "          Timestamp    Open    High     Low   Close  Volume_(BTC)  \\\n",
              "2500000  1475706240  610.97  610.97  610.97  610.97      0.018135   \n",
              "2500001  1475706300  610.97  610.97  610.97  610.97      0.018135   \n",
              "2500002  1475706360  610.97  610.97  610.97  610.97      0.018135   \n",
              "2500003  1475706420  610.97  610.97  610.97  610.97      0.018135   \n",
              "2500004  1475706480  610.83  610.83  610.83  610.83      0.677783   \n",
              "\n",
              "         Volume_(Currency)  Weighted_Price  \n",
              "2500000          11.080002          610.97  \n",
              "2500001          11.080002          610.97  \n",
              "2500002          11.080002          610.97  \n",
              "2500003          11.080002          610.97  \n",
              "2500004         414.010001          610.83  "
            ]
          },
          "metadata": {
            "tags": []
          },
          "execution_count": 6
        }
      ]
    },
    {
      "metadata": {
        "colab_type": "code",
        "id": "Gvvb12NM_lMC",
        "scrolled": true,
        "colab": {
          "base_uri": "https://localhost:8080/",
          "height": 780
        },
        "outputId": "27bdaa3f-c4d6-430e-f466-5b75729bb608"
      },
      "cell_type": "code",
      "source": [
        "weighted_price = np.array(a.iloc[:,[7]])\n",
        "plt.figure(figsize=(14,6))\n",
        "plt.title(\"Bitcoin Closing Price\")\n",
        "plt.grid()\n",
        "plt.plot(weighted_price)\n",
        "sclow = MinMaxScaler()\n",
        "low_price = np.array(a.iloc[:,[3]])\n",
        "low_priceSC = sclow.fit_transform(low_price)\n",
        "sc = MinMaxScaler()\n",
        "weighted_priceSC = sc.fit_transform(weighted_price)\n",
        "plt.figure(figsize=(14,6))\n",
        "plt.title(\"Scaled\")\n",
        "plt.grid()\n",
        "plt.plot(weighted_priceSC)"
      ],
      "execution_count": 7,
      "outputs": [
        {
          "output_type": "execute_result",
          "data": {
            "text/plain": [
              "[<matplotlib.lines.Line2D at 0x7fe3353ed1d0>]"
            ]
          },
          "metadata": {
            "tags": []
          },
          "execution_count": 7
        },
        {
          "output_type": "display_data",
          "data": {
            "image/png": "[encoded data removed]",
            "text/plain": [
              "<Figure size 1008x432 with 1 Axes>"
            ]
          },
          "metadata": {
            "tags": []
          }
        },
        {
          "output_type": "display_data",
          "data": {
            "image/png": "[encoded data removed]",
            "text/plain": [
              "<Figure size 1008x432 with 1 Axes>"
            ]
          },
          "metadata": {
            "tags": []
          }
        }
      ]
    },
    {
      "metadata": {
        "colab_type": "code",
        "id": "F1Fc28Gtcn_B",
        "colab": {}
      },
      "cell_type": "code",
      "source": [
        "def systematic_mean_absolute_percentage_error(y_true, y_pred):\n",
        "    n = y_true.shape[0]\n",
        "    res = 0\n",
        "    for i in range(n):\n",
        "        num = np.abs(y_pred[i] - y_true[i])\n",
        "        dem = (np.abs(y_true[i]) + np.abs(y_pred[i]))/2\n",
        "        res += num/dem\n",
        "    res = np.squeeze(res)\n",
        "    return 100*(res/n)"
      ],
      "execution_count": 0,
      "outputs": []
    },
    {
      "metadata": {
        "id": "l8pvgbGdwUjy",
        "colab_type": "code",
        "colab": {}
      },
      "cell_type": "code",
      "source": [
        "def mean_absolute_scaled_error(y_true, y_pred):\n",
        "    n = y_true.shape[0]\n",
        "    res = 0\n",
        "    dem = 0\n",
        "    num = 0\n",
        "    for i in range(n-1):\n",
        "        dem += y_true[i+1] - y_true[i]\n",
        "    for i in range(n):\n",
        "        num = abs(y_pred[i] - y_true[i])\n",
        "        num = np.squeeze(num)\n",
        "        res += num/dem\n",
        "    res = np.squeeze(res)\n",
        "    #print(num, dem, res)\n",
        "    return res/n"
      ],
      "execution_count": 0,
      "outputs": []
    },
    {
      "metadata": {
        "colab_type": "code",
        "id": "e-ErWRgx9GkA",
        "colab": {}
      },
      "cell_type": "code",
      "source": [
        "def func(timestep, idx):\n",
        "    timestep = timestep\n",
        "    X = []\n",
        "    y = []\n",
        "    for i in range(timestep, len(weighted_priceSC)):\n",
        "        X.append(weighted_priceSC[i-timestep:i, :])\n",
        "        y.append(low_priceSC[i])\n",
        "    X, y = np.array(X), np.array(y)\n",
        "    #print(X.shape, y.shape)\n",
        "    X_train = X[:1000000,:]\n",
        "    X_test = X[1000000:,:]\n",
        "\n",
        "    y_train = y[:1000000]\n",
        "    y_test = y[1000000:]\n",
        "    %%time\n",
        "    # The LSTM architecture\n",
        "    regressor = Sequential()\n",
        "    # First LSTM layer with Dropout regularisation\n",
        "    regressor.add(LSTM(units=50, return_sequences=True, input_shape=(X_train.shape[1],1)))\n",
        "    regressor.add(Dropout(0.2))\n",
        "    # Second LSTM layer\n",
        "    regressor.add(LSTM(units=50, return_sequences=True))\n",
        "    regressor.add(Dropout(0.2))\n",
        "    # Third LSTM layer\n",
        "    regressor.add(LSTM(units=50, return_sequences=True))\n",
        "    regressor.add(Dropout(0.5))\n",
        "    # Fourth LSTM layer\n",
        "    regressor.add(LSTM(units=50))\n",
        "    regressor.add(Dropout(0.5))\n",
        "    # The output layer\n",
        "    regressor.add(Dense(units=1))\n",
        "\n",
        "    # Compiling the RNN\n",
        "    regressor.compile(optimizer='adam', loss='mean_absolute_error')\n",
        "    # Fitting to the training set\n",
        "    #regressor.fit(X_train, y_train, epochs=1, batch_size=500)\n",
        "    #regressor.save('modelw_l'+str(idx)+'.h5')\n",
        "    regressor = tf.keras.models.load_model('modelw_l'+str(idx)+'.h5')\n",
        "    y_pred = regressor.predict(X_test)\n",
        "    return mean_absolute_error(y_test, y_pred), systematic_mean_absolute_percentage_error(y_test, y_pred), mean_absolute_scaled_error(y_test, y_pred), mean_squared_error(y_test, y_pred)"
      ],
      "execution_count": 0,
      "outputs": []
    },
    {
      "metadata": {
        "colab_type": "code",
        "id": "1LT3KuGZ-hfB",
        "outputId": "d16afc15-be86-41d5-ec45-a9dfb3934365",
        "colab": {
          "base_uri": "https://localhost:8080/",
          "height": 343
        }
      },
      "cell_type": "code",
      "source": [
        "mae_l = []\n",
        "smape_l = []\n",
        "mase_l = []\n",
        "mse_l = []\n",
        "for i in range(30,151, 30):\n",
        "    print(i)\n",
        "    mae, smape, mase, mse = func(i,i)\n",
        "    mae_l.append(mae)\n",
        "    smape_l.append(smape)\n",
        "    mase_l.append(mase)\n",
        "    mse_l.append(mse)"
      ],
      "execution_count": 12,
      "outputs": [
        {
          "output_type": "stream",
          "text": [
            "30\n",
            "CPU times: user 3 µs, sys: 1 µs, total: 4 µs\n",
            "Wall time: 8.11 µs\n",
            "WARNING:tensorflow:From /usr/local/lib/python3.6/dist-packages/tensorflow/python/ops/math_ops.py:3066: to_int32 (from tensorflow.python.ops.math_ops) is deprecated and will be removed in a future version.\n",
            "Instructions for updating:\n",
            "Use tf.cast instead.\n",
            "60\n",
            "CPU times: user 3 µs, sys: 0 ns, total: 3 µs\n",
            "Wall time: 7.63 µs\n",
            "90\n",
            "CPU times: user 3 µs, sys: 0 ns, total: 3 µs\n",
            "Wall time: 8.58 µs\n",
            "120\n",
            "CPU times: user 4 µs, sys: 1e+03 ns, total: 5 µs\n",
            "Wall time: 8.11 µs\n",
            "150\n",
            "CPU times: user 3 µs, sys: 1e+03 ns, total: 4 µs\n",
            "Wall time: 6.91 µs\n"
          ],
          "name": "stdout"
        }
      ]
    },
    {
      "metadata": {
        "colab_type": "code",
        "id": "bJhi5a37XP_a",
        "colab": {
          "base_uri": "https://localhost:8080/",
          "height": 286
        },
        "outputId": "8750ce58-5a5b-4f22-c3f2-7c87f3fe8361"
      },
      "cell_type": "code",
      "source": [
        "plt.plot(mae_l)"
      ],
      "execution_count": 18,
      "outputs": [
        {
          "output_type": "execute_result",
          "data": {
            "text/plain": [
              "[<matplotlib.lines.Line2D at 0x7fe2eeec3198>]"
            ]
          },
          "metadata": {
            "tags": []
          },
          "execution_count": 18
        },
        {
          "output_type": "display_data",
          "data": {
            "image/png": "[encoded data removed]",
            "text/plain": [
              "<Figure size 432x288 with 1 Axes>"
            ]
          },
          "metadata": {
            "tags": []
          }
        }
      ]
    },
    {
      "metadata": {
        "colab_type": "code",
        "id": "W9sm2pcfyk-K",
        "colab": {
          "base_uri": "https://localhost:8080/",
          "height": 286
        },
        "outputId": "4440c17e-e591-402f-9aa7-d426a00b457a"
      },
      "cell_type": "code",
      "source": [
        "plt.plot(smape_l)"
      ],
      "execution_count": 19,
      "outputs": [
        {
          "output_type": "execute_result",
          "data": {
            "text/plain": [
              "[<matplotlib.lines.Line2D at 0x7fe2eee9cdd8>]"
            ]
          },
          "metadata": {
            "tags": []
          },
          "execution_count": 19
        },
        {
          "output_type": "display_data",
          "data": {
            "image/png": "[encoded data removed]",
            "text/plain": [
              "<Figure size 432x288 with 1 Axes>"
            ]
          },
          "metadata": {
            "tags": []
          }
        }
      ]
    },
    {
      "metadata": {
        "id": "MfUyS5u4wUkU",
        "colab_type": "code",
        "colab": {
          "base_uri": "https://localhost:8080/",
          "height": 286
        },
        "outputId": "ab90a8ae-52b2-4ff5-9726-26e00916054d"
      },
      "cell_type": "code",
      "source": [
        "plt.plot(mase_l)"
      ],
      "execution_count": 20,
      "outputs": [
        {
          "output_type": "execute_result",
          "data": {
            "text/plain": [
              "[<matplotlib.lines.Line2D at 0x7fe2eef01908>]"
            ]
          },
          "metadata": {
            "tags": []
          },
          "execution_count": 20
        },
        {
          "output_type": "display_data",
          "data": {
            "image/png": "[encoded data removed]",
            "text/plain": [
              "<Figure size 432x288 with 1 Axes>"
            ]
          },
          "metadata": {
            "tags": []
          }
        }
      ]
    },
    {
      "metadata": {
        "id": "LgmqVx5-wUkY",
        "colab_type": "code",
        "colab": {
          "base_uri": "https://localhost:8080/",
          "height": 286
        },
        "outputId": "d49c26ff-0ffc-40b1-91fe-2d0765dacc7e"
      },
      "cell_type": "code",
      "source": [
        "plt.plot(mse_l)"
      ],
      "execution_count": 21,
      "outputs": [
        {
          "output_type": "execute_result",
          "data": {
            "text/plain": [
              "[<matplotlib.lines.Line2D at 0x7fe2eee60940>]"
            ]
          },
          "metadata": {
            "tags": []
          },
          "execution_count": 21
        },
        {
          "output_type": "display_data",
          "data": {
            "image/png": "[encoded data removed]",
            "text/plain": [
              "<Figure size 432x288 with 1 Axes>"
            ]
          },
          "metadata": {
            "tags": []
          }
        }
      ]
    },
    {
      "metadata": {
        "id": "WjRkDUaV0D73",
        "colab_type": "code",
        "colab": {
          "base_uri": "https://localhost:8080/",
          "height": 102
        },
        "outputId": "d7887a4d-d142-4fd4-bcc6-c573cf7f82b8"
      },
      "cell_type": "code",
      "source": [
        "print(\"Units = 30 in each hidden layer:\\nMean absolute error {0}\\nSystematic mean absolute percentage error {1} \\nMean_absolute_scaled_error {2}\\nMean square error {3}\".format(mae_l[0],smape_l[0], mase_l[0], mse_l[0]))"
      ],
      "execution_count": 13,
      "outputs": [
        {
          "output_type": "stream",
          "text": [
            "Units = 30 in each hidden layer:\n",
            "Mean absolute error 0.00261955512881374\n",
            "Systematic mean absolute percentage error 1.244277581909 \n",
            "Mean_absolute_scaled_error -0.01614202063088634\n",
            "Mean square error 7.77082375891068e-06\n"
          ],
          "name": "stdout"
        }
      ]
    },
    {
      "metadata": {
        "id": "mG0Cb6Hj0K4j",
        "colab_type": "code",
        "colab": {
          "base_uri": "https://localhost:8080/",
          "height": 102
        },
        "outputId": "952ac903-a0f2-4a3b-e836-b55a878a8cf4"
      },
      "cell_type": "code",
      "source": [
        "print(\"Units = 60 in each hidden layer:\\nMean absolute error {0}\\nSystematic mean absolute percentage error {1} \\nMean_absolute_scaled_error {2}\\nMean square error {3}\".format(mae_l[1],smape_l[1], mase_l[1], mse_l[1]))"
      ],
      "execution_count": 14,
      "outputs": [
        {
          "output_type": "stream",
          "text": [
            "Units = 60 in each hidden layer:\n",
            "Mean absolute error 0.001382677797600999\n",
            "Systematic mean absolute percentage error 0.7017481268815773 \n",
            "Mean_absolute_scaled_error -0.008520892261858763\n",
            "Mean square error 2.3691606603934774e-06\n"
          ],
          "name": "stdout"
        }
      ]
    },
    {
      "metadata": {
        "id": "Ck-krZn00Pt5",
        "colab_type": "code",
        "colab": {
          "base_uri": "https://localhost:8080/",
          "height": 102
        },
        "outputId": "018e47f0-0156-43c2-cc08-9d43de4b2321"
      },
      "cell_type": "code",
      "source": [
        "print(\"Units = 90 in each hidden layer:\\nMean absolute error {0}\\nSystematic mean absolute percentage error {1} \\nMean_absolute_scaled_error {2}\\nMean square error {3}\".format(mae_l[2],smape_l[2], mase_l[2], mse_l[2]))"
      ],
      "execution_count": 15,
      "outputs": [
        {
          "output_type": "stream",
          "text": [
            "Units = 90 in each hidden layer:\n",
            "Mean absolute error 0.0018909584591591945\n",
            "Systematic mean absolute percentage error 0.9765525006784919 \n",
            "Mean_absolute_scaled_error -0.011654882983777589\n",
            "Mean square error 4.117055329158873e-06\n"
          ],
          "name": "stdout"
        }
      ]
    },
    {
      "metadata": {
        "id": "e8vWSVn80TKK",
        "colab_type": "code",
        "colab": {
          "base_uri": "https://localhost:8080/",
          "height": 102
        },
        "outputId": "de45e198-4881-41e9-bf70-29d07526490d"
      },
      "cell_type": "code",
      "source": [
        "print(\"Units = 120 in each hidden layer:\\nMean absolute error {0}\\nSystematic mean absolute percentage error {1} \\nMean_absolute_scaled_error {2}\\nMean square error {3}\".format(mae_l[3],smape_l[3], mase_l[3], mse_l[3]))"
      ],
      "execution_count": 16,
      "outputs": [
        {
          "output_type": "stream",
          "text": [
            "Units = 120 in each hidden layer:\n",
            "Mean absolute error 0.0048671500409156404\n",
            "Systematic mean absolute percentage error 2.0431201739324885 \n",
            "Mean_absolute_scaled_error -0.03001674531040451\n",
            "Mean square error 3.3204852153415786e-05\n"
          ],
          "name": "stdout"
        }
      ]
    },
    {
      "metadata": {
        "id": "gmX79YQc0XlM",
        "colab_type": "code",
        "colab": {
          "base_uri": "https://localhost:8080/",
          "height": 102
        },
        "outputId": "cf73df40-79f9-4a05-f7ed-e9d44d580ae8"
      },
      "cell_type": "code",
      "source": [
        "print(\"Units = 150 in each hidden layer:\\nMean absolute error {0}\\nSystematic mean absolute percentage error {1} \\nMean_absolute_scaled_error {2}\\nMean square error {3}\".format(mae_l[4],smape_l[4], mase_l[4], mse_l[4]))"
      ],
      "execution_count": 17,
      "outputs": [
        {
          "output_type": "stream",
          "text": [
            "Units = 150 in each hidden layer:\n",
            "Mean absolute error 0.002291682620299912\n",
            "Systematic mean absolute percentage error 1.3054763447871998 \n",
            "Mean_absolute_scaled_error -0.014020276683735605\n",
            "Mean square error 6.890479963521903e-06\n"
          ],
          "name": "stdout"
        }
      ]
    },
    {
      "metadata": {
        "id": "Dkmc0YQi0dAW",
        "colab_type": "code",
        "colab": {}
      },
      "cell_type": "code",
      "source": [
        ""
      ],
      "execution_count": 0,
      "outputs": []
    }
  ]
}